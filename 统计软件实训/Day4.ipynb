{
 "cells": [
  {
   "cell_type": "code",
   "execution_count": 1,
   "metadata": {},
   "outputs": [],
   "source": [
    "import pandas as pd\n",
    "import matplotlib.pyplot as plt\n",
    "from sklearn import preprocessing\n",
    "from scipy.stats import chi2_contingency"
   ]
  },
  {
   "cell_type": "code",
   "execution_count": 2,
   "metadata": {},
   "outputs": [
    {
     "name": "stderr",
     "output_type": "stream",
     "text": [
      "C:\\Users\\17630\\AppData\\Roaming\\Python\\Python39\\site-packages\\pandas\\core\\frame.py:4906: SettingWithCopyWarning: \n",
      "A value is trying to be set on a copy of a slice from a DataFrame\n",
      "\n",
      "See the caveats in the documentation: https://pandas.pydata.org/pandas-docs/stable/user_guide/indexing.html#returning-a-view-versus-a-copy\n",
      "  return super().drop(\n",
      "C:\\Users\\17630\\AppData\\Roaming\\Python\\Python39\\site-packages\\pandas\\core\\indexing.py:1817: SettingWithCopyWarning: \n",
      "A value is trying to be set on a copy of a slice from a DataFrame.\n",
      "Try using .loc[row_indexer,col_indexer] = value instead\n",
      "\n",
      "See the caveats in the documentation: https://pandas.pydata.org/pandas-docs/stable/user_guide/indexing.html#returning-a-view-versus-a-copy\n",
      "  self._setitem_single_column(loc, value, pi)\n"
     ]
    }
   ],
   "source": [
    "df = pd.read_csv(\".\\数据集\\TrainingData.csv\", header=0)\n",
    "##删除类别变量缺失值所在行\n",
    "A=df.select_dtypes(include='object').isnull().sum()[df.select_dtypes(include='object').isnull().sum()>0]\n",
    "df.dropna(axis=0,subset = A.index,inplace = True)\n",
    "##修改数值型变量Personal_info5的结果\n",
    "df.loc[df['Personal_info5'].notnull(),'Personal_info5']=1\n",
    "df.loc[:,'Personal_info5'].fillna(0,inplace=True)\n",
    "##删除数值型4个变量-1所在行\n",
    "cond=(df.Coverage_info1!=-1)&(df.Property_info5!=-1)&(df.Geographic_info1!=-1)&(df.Geographic_info2!=-1)\n",
    "df1=df[cond]\n",
    "##删除数值型变量Geographic_info3列\n",
    "df1.drop('Geographic_info3', axis = 1, inplace = True)\n",
    "##修改数值型变量Personal_info2中-1的值为0\n",
    "df1.loc[df1['Personal_info2']==-1,'Personal_info2']=0\n",
    "##删除类别变量缺失值所在行\n",
    "A=df.select_dtypes(include='object').isnull().sum()[df.select_dtypes(include='object').isnull().sum()>0]\n",
    "df.dropna(axis=0,subset = A.index,inplace = True)\n",
    "##修改数值型变量Personal_info5的结果\n",
    "df.loc[df['Personal_info5'].notnull(),'Personal_info5']=1\n",
    "df.loc[:,'Personal_info5'].fillna(0,inplace=True)\n",
    "##删除数值型4个变量-1所在行\n",
    "cond=(df.Coverage_info1!=-1)&(df.Property_info5!=-1)&(df.Geographic_info1!=-1)&(df.Geographic_info2!=-1)\n",
    "df1=df[cond]\n",
    "##删除数值型变量Geographic_info3列\n",
    "df1.drop('Geographic_info3', axis = 1, inplace = True)\n",
    "##修改数值型变量Personal_info2中-1的值为0\n",
    "df1.loc[df1['Personal_info2']==-1,'Personal_info2']=0"
   ]
  },
  {
   "cell_type": "code",
   "execution_count": 3,
   "metadata": {},
   "outputs": [],
   "source": [
    "#变量预测变量Y分离，同时去除不进入模型的变量\n",
    "Y=df1['Quote_Flag']\n",
    "Quote_Id=df1['Quote_Id']\n",
    "Quote_Date=df1['Quote_Date']\n",
    "dfx=df1.drop(['Quote_Flag','Quote_Id','Quote_Date'], axis = 1)\n",
    "#数值型变量与类别型变量分离\n",
    "dfnum=dfx.select_dtypes(include=['int64','float']).copy()\n",
    "dfcate=dfx.select_dtypes(include=['object']).copy()"
   ]
  },
  {
   "cell_type": "code",
   "execution_count": 4,
   "metadata": {},
   "outputs": [],
   "source": [
    "#划分训练集和测试集\n",
    "from sklearn.model_selection import train_test_split\n",
    "X_train, X_test, y_train, y_test = train_test_split(dfnum,Y, \n",
    "                                                    train_size=0.7,\n",
    "                                                    test_size = 0.3, random_state=100)"
   ]
  },
  {
   "cell_type": "code",
   "execution_count": 5,
   "metadata": {},
   "outputs": [
    {
     "name": "stdout",
     "output_type": "stream",
     "text": [
      "chi2得分: [1.18652182e+00 8.42220711e+02 6.42542164e+01 1.15280968e+02\n",
      " 1.24639511e+03 1.58023943e+03 4.02695857e+03 2.70862611e+01\n",
      " 8.86209304e+01 0.00000000e+00            nan 1.68327376e+02\n",
      " 1.02097062e+03 1.04877181e+04 6.00505977e+02]\n",
      "chi2得分P值: [2.76032270e-001 3.57115959e-185 1.09357657e-015 6.83011992e-027\n",
      " 5.04086018e-273 0.00000000e+000 0.00000000e+000 1.94575895e-007\n",
      " 4.78202565e-021 1.00000000e+000             nan 1.71591002e-038\n",
      " 4.96656031e-224 0.00000000e+000 1.29940680e-132]\n"
     ]
    },
    {
     "data": {
      "image/png": "[encoded data removed]",
      "text/plain": [
       "<Figure size 432x288 with 1 Axes>"
      ]
     },
     "metadata": {
      "needs_background": "light"
     },
     "output_type": "display_data"
    }
   ],
   "source": [
    "#变量选择：相关性度量的方法\n",
    "from sklearn.feature_selection import SelectKBest,chi2\n",
    "# 实例化selectKBest对象\n",
    "skb=SelectKBest(chi2,k=10).fit(X_train, y_train)\n",
    "#调用属性scores_，获得chi2返回的得分\n",
    "print('chi2得分:',skb.scores_)\n",
    "# 调用属性pvalues_ ，获得chi2返回的P值\n",
    "print('chi2得分P值:',skb.pvalues_)   \n",
    "#返回特征过滤后保留下的特征列索引\n",
    "skb.get_support(indices=True) \n",
    "# 转换数据，得到特征过滤后保留下的特征数据集\n",
    "x_new=skb.transform(X_train)\n",
    "plt.bar(range(len(skb.scores_)), skb.scores_)\n",
    "plt.show()"
   ]
  },
  {
   "cell_type": "code",
   "execution_count": 6,
   "metadata": {},
   "outputs": [
    {
     "name": "stdout",
     "output_type": "stream",
     "text": [
      "[0.06754409 0.10917124 0.03254928 0.01566683 0.14813055 0.06416533\n",
      " 0.13153016 0.167008   0.00123955 0.         0.         0.0152894\n",
      " 0.11128184 0.04965994 0.08676379]\n"
     ]
    }
   ],
   "source": [
    "#变量选择：决策树度量的方法\n",
    "from sklearn import metrics\n",
    "from sklearn.ensemble import ExtraTreesClassifier\n",
    "model = ExtraTreesClassifier()\n",
    "model.fit(X_train, y_train)\n",
    "#显示模型重要性\n",
    "print(model.feature_importances_)"
   ]
  },
  {
   "cell_type": "code",
   "execution_count": 7,
   "metadata": {},
   "outputs": [
    {
     "data": {
      "image/png": "[encoded data removed]",
      "text/plain": [
       "<Figure size 432x288 with 1 Axes>"
      ]
     },
     "metadata": {
      "needs_background": "light"
     },
     "output_type": "display_data"
    }
   ],
   "source": [
    "plt.bar(range(len(model.feature_importances_)), model.feature_importances_)\n",
    "plt.show()"
   ]
  },
  {
   "cell_type": "code",
   "execution_count": 8,
   "metadata": {},
   "outputs": [],
   "source": [
    "X=dfnum.iloc[:,[1,4,5,6,12,13,14]]\n",
    "X_train, X_test, y_train, y_test = train_test_split(X,Y, \n",
    "                                                    train_size=0.7,\n",
    "                                                    test_size = 0.3, random_state=100)"
   ]
  },
  {
   "cell_type": "code",
   "execution_count": 9,
   "metadata": {},
   "outputs": [
    {
     "name": "stderr",
     "output_type": "stream",
     "text": [
      "D:\\Anaconda3\\lib\\site-packages\\sklearn\\linear_model\\_logistic.py:814: ConvergenceWarning: lbfgs failed to converge (status=1):\n",
      "STOP: TOTAL NO. of ITERATIONS REACHED LIMIT.\n",
      "\n",
      "Increase the number of iterations (max_iter) or scale the data as shown in:\n",
      "    https://scikit-learn.org/stable/modules/preprocessing.html\n",
      "Please also refer to the documentation for alternative solver options:\n",
      "    https://scikit-learn.org/stable/modules/linear_model.html#logistic-regression\n",
      "  n_iter_i = _check_optimize_result(\n"
     ]
    },
    {
     "name": "stdout",
     "output_type": "stream",
     "text": [
      "LR: score:0.669762 (precision:0.326585,recall:0.684152)\n",
      "KNN: score:0.772815 (precision:0.270307,recall:0.110491)\n",
      "GB: score:0.813107 (precision:0.535467,recall:0.172712)\n",
      "ABC: score:0.812680 (precision:0.527653,recall:0.196987)\n",
      "RF: score:0.813641 (precision:0.522908,recall:0.292969)\n"
     ]
    },
    {
     "data": {
      "image/png": "[encoded data removed]",
      "text/plain": [
       "<Figure size 432x288 with 1 Axes>"
      ]
     },
     "metadata": {
      "needs_background": "light"
     },
     "output_type": "display_data"
    },
    {
     "name": "stdout",
     "output_type": "stream",
     "text": [
      "  names    scores  precisions   recalls       f1s      aucs\n",
      "0    LR  0.669762    0.326585  0.684152  0.442120  0.675255\n",
      "1   KNN  0.772815    0.270307  0.110491  0.156863  0.519974\n",
      "2    GB  0.813107    0.535467  0.172712  0.261181  0.568638\n",
      "3   ABC  0.812680    0.527653  0.196987  0.286875  0.577641\n",
      "4    RF  0.813641    0.522908  0.292969  0.375536  0.614876\n"
     ]
    }
   ],
   "source": [
    "from sklearn.metrics import roc_curve\n",
    "from sklearn.metrics import roc_auc_score\n",
    "from sklearn.metrics import f1_score\n",
    "from sklearn.metrics import recall_score\n",
    "from sklearn.metrics import precision_score\n",
    "from sklearn.model_selection import StratifiedKFold\n",
    "from sklearn.neighbors import KNeighborsClassifier\n",
    "from sklearn.ensemble import GradientBoostingClassifier\n",
    "from sklearn.ensemble import AdaBoostClassifier\n",
    "from sklearn.linear_model import LogisticRegression\n",
    "from sklearn.ensemble import RandomForestClassifier\n",
    "##设置5折交叉验证\n",
    "kfold = StratifiedKFold(n_splits=5)\n",
    "##添加模型\n",
    "models = []\n",
    "models.append(('LR', LogisticRegression(C=1e10, class_weight = 'balanced')))\n",
    "models.append(('KNN', KNeighborsClassifier()))\n",
    "models.append(('GB', GradientBoostingClassifier(random_state = 42)))\n",
    "models.append(('ABC', AdaBoostClassifier(random_state = 42)))\n",
    "models.append(('RF', RandomForestClassifier(class_weight = 'balanced')))\n",
    "names = []\n",
    "aucs=[]\n",
    "scores=[]\n",
    "precisions=[]\n",
    "recalls=[]\n",
    "f1s=[]\n",
    "for name, model in models:    \n",
    "    model.fit(X_train, y_train)\n",
    "    Y_pred_test = model.predict(X_test)\n",
    "    score=model.score(X_test,y_test)\n",
    "    scores.append(score)\n",
    "    precision=precision_score(y_test,Y_pred_test)\n",
    "    precisions.append(precision)\n",
    "    recall=recall_score(y_test,Y_pred_test)\n",
    "    recalls.append(recall)\n",
    "    f1=f1_score(y_test,Y_pred_test)\n",
    "    f1s.append(f1)\n",
    "    fpr, tpr, thresholds= roc_curve(y_test,model.predict_proba(X_test)[:,1])\n",
    "    auc = roc_auc_score(y_test,model.predict(X_test))\n",
    "    aucs.append(auc)\n",
    "    plt.plot(fpr, tpr, label=name)\n",
    "    names.append(name)\n",
    "    msg = \"%s: score:%f (precision:%f,recall:%f)\" % (name, score, precision, recall)\n",
    "    print(msg)\n",
    "plt.legend(loc='lower right')\n",
    "plt.show()\n",
    "c={\"names\":names,\"scores\":scores,\"precisions\":precisions,\"recalls\":recalls,\"f1s\":f1s,\"aucs\":aucs}\n",
    "result=pd.DataFrame(c)\n",
    "print(result)"
   ]
  },
  {
   "cell_type": "code",
   "execution_count": 10,
   "metadata": {},
   "outputs": [
    {
     "name": "stderr",
     "output_type": "stream",
     "text": [
      "D:\\Anaconda3\\lib\\site-packages\\sklearn\\svm\\_base.py:284: ConvergenceWarning: Solver terminated early (max_iter=1000).  Consider pre-processing your data with StandardScaler or MinMaxScaler.\n",
      "  warnings.warn(\n",
      "D:\\Anaconda3\\lib\\site-packages\\sklearn\\svm\\_base.py:284: ConvergenceWarning: Solver terminated early (max_iter=1000).  Consider pre-processing your data with StandardScaler or MinMaxScaler.\n",
      "  warnings.warn(\n",
      "D:\\Anaconda3\\lib\\site-packages\\sklearn\\svm\\_base.py:284: ConvergenceWarning: Solver terminated early (max_iter=1000).  Consider pre-processing your data with StandardScaler or MinMaxScaler.\n",
      "  warnings.warn(\n",
      "D:\\Anaconda3\\lib\\site-packages\\sklearn\\svm\\_base.py:284: ConvergenceWarning: Solver terminated early (max_iter=1000).  Consider pre-processing your data with StandardScaler or MinMaxScaler.\n",
      "  warnings.warn(\n",
      "D:\\Anaconda3\\lib\\site-packages\\sklearn\\svm\\_base.py:284: ConvergenceWarning: Solver terminated early (max_iter=1000).  Consider pre-processing your data with StandardScaler or MinMaxScaler.\n",
      "  warnings.warn(\n",
      "D:\\Anaconda3\\lib\\site-packages\\sklearn\\svm\\_base.py:284: ConvergenceWarning: Solver terminated early (max_iter=1000).  Consider pre-processing your data with StandardScaler or MinMaxScaler.\n",
      "  warnings.warn(\n",
      "D:\\Anaconda3\\lib\\site-packages\\sklearn\\svm\\_base.py:284: ConvergenceWarning: Solver terminated early (max_iter=1000).  Consider pre-processing your data with StandardScaler or MinMaxScaler.\n",
      "  warnings.warn(\n",
      "D:\\Anaconda3\\lib\\site-packages\\sklearn\\svm\\_base.py:284: ConvergenceWarning: Solver terminated early (max_iter=1000).  Consider pre-processing your data with StandardScaler or MinMaxScaler.\n",
      "  warnings.warn(\n",
      "D:\\Anaconda3\\lib\\site-packages\\sklearn\\svm\\_base.py:284: ConvergenceWarning: Solver terminated early (max_iter=1000).  Consider pre-processing your data with StandardScaler or MinMaxScaler.\n",
      "  warnings.warn(\n",
      "D:\\Anaconda3\\lib\\site-packages\\sklearn\\svm\\_base.py:284: ConvergenceWarning: Solver terminated early (max_iter=1000).  Consider pre-processing your data with StandardScaler or MinMaxScaler.\n",
      "  warnings.warn(\n",
      "D:\\Anaconda3\\lib\\site-packages\\sklearn\\svm\\_base.py:284: ConvergenceWarning: Solver terminated early (max_iter=1000).  Consider pre-processing your data with StandardScaler or MinMaxScaler.\n",
      "  warnings.warn(\n",
      "D:\\Anaconda3\\lib\\site-packages\\sklearn\\svm\\_base.py:284: ConvergenceWarning: Solver terminated early (max_iter=1000).  Consider pre-processing your data with StandardScaler or MinMaxScaler.\n",
      "  warnings.warn(\n",
      "D:\\Anaconda3\\lib\\site-packages\\sklearn\\svm\\_base.py:284: ConvergenceWarning: Solver terminated early (max_iter=1000).  Consider pre-processing your data with StandardScaler or MinMaxScaler.\n",
      "  warnings.warn(\n",
      "D:\\Anaconda3\\lib\\site-packages\\sklearn\\svm\\_base.py:284: ConvergenceWarning: Solver terminated early (max_iter=1000).  Consider pre-processing your data with StandardScaler or MinMaxScaler.\n",
      "  warnings.warn(\n",
      "D:\\Anaconda3\\lib\\site-packages\\sklearn\\svm\\_base.py:284: ConvergenceWarning: Solver terminated early (max_iter=1000).  Consider pre-processing your data with StandardScaler or MinMaxScaler.\n",
      "  warnings.warn(\n",
      "D:\\Anaconda3\\lib\\site-packages\\sklearn\\svm\\_base.py:284: ConvergenceWarning: Solver terminated early (max_iter=1000).  Consider pre-processing your data with StandardScaler or MinMaxScaler.\n",
      "  warnings.warn(\n",
      "D:\\Anaconda3\\lib\\site-packages\\sklearn\\svm\\_base.py:284: ConvergenceWarning: Solver terminated early (max_iter=1000).  Consider pre-processing your data with StandardScaler or MinMaxScaler.\n",
      "  warnings.warn(\n",
      "D:\\Anaconda3\\lib\\site-packages\\sklearn\\svm\\_base.py:284: ConvergenceWarning: Solver terminated early (max_iter=1000).  Consider pre-processing your data with StandardScaler or MinMaxScaler.\n",
      "  warnings.warn(\n",
      "D:\\Anaconda3\\lib\\site-packages\\sklearn\\svm\\_base.py:284: ConvergenceWarning: Solver terminated early (max_iter=1000).  Consider pre-processing your data with StandardScaler or MinMaxScaler.\n",
      "  warnings.warn(\n",
      "D:\\Anaconda3\\lib\\site-packages\\sklearn\\svm\\_base.py:284: ConvergenceWarning: Solver terminated early (max_iter=1000).  Consider pre-processing your data with StandardScaler or MinMaxScaler.\n",
      "  warnings.warn(\n"
     ]
    },
    {
     "name": "stdout",
     "output_type": "stream",
     "text": [
      "0.4951176310279937\n",
      "0.1\n",
      "linear\n",
      "0.495118  with:   {'C': 0.1, 'kernel': 'linear'}\n",
      "0.443195  with:   {'C': 0.1, 'kernel': 'rbf'}\n",
      "0.443480  with:   {'C': 0.25, 'kernel': 'linear'}\n",
      "0.465435  with:   {'C': 0.25, 'kernel': 'rbf'}\n"
     ]
    },
    {
     "name": "stderr",
     "output_type": "stream",
     "text": [
      "D:\\Anaconda3\\lib\\site-packages\\sklearn\\svm\\_base.py:284: ConvergenceWarning: Solver terminated early (max_iter=1000).  Consider pre-processing your data with StandardScaler or MinMaxScaler.\n",
      "  warnings.warn(\n"
     ]
    }
   ],
   "source": [
    "#支持向量机网格调参\n",
    "from sklearn.model_selection import GridSearchCV\n",
    "from sklearn.svm import SVC\n",
    "parameters = {\"kernel\":('linear','rbf'),\n",
    "              'C':[0.1,0.25]}\n",
    "searchmodel = GridSearchCV(SVC(max_iter=1000),param_grid =parameters)\n",
    "searchmodel.fit(X,Y)\n",
    "print(searchmodel.best_score_)\n",
    "print(searchmodel.best_estimator_.C)\n",
    "print(searchmodel.best_estimator_.kernel)\n",
    "means = searchmodel.cv_results_['mean_test_score']\n",
    "params = searchmodel.cv_results_['params']\n",
    "for mean,param in zip(means,params):\n",
    "    print(\"%f  with:   %r\" % (mean,param))"
   ]
  },
  {
   "cell_type": "code",
   "execution_count": 11,
   "metadata": {},
   "outputs": [
    {
     "name": "stdout",
     "output_type": "stream",
     "text": [
      "0.810818847209515\n",
      "0.787351  with:   {'max_features': 2, 'n_estimators': 3}\n",
      "0.806885  with:   {'max_features': 2, 'n_estimators': 10}\n",
      "0.810361  with:   {'max_features': 2, 'n_estimators': 30}\n",
      "0.786985  with:   {'max_features': 3, 'n_estimators': 3}\n",
      "0.806885  with:   {'max_features': 3, 'n_estimators': 10}\n",
      "0.810682  with:   {'max_features': 3, 'n_estimators': 30}\n",
      "0.785110  with:   {'max_features': 4, 'n_estimators': 3}\n",
      "0.808715  with:   {'max_features': 4, 'n_estimators': 10}\n",
      "0.808943  with:   {'max_features': 4, 'n_estimators': 30}\n",
      "0.784241  with:   {'max_features': 5, 'n_estimators': 3}\n",
      "0.805215  with:   {'max_features': 5, 'n_estimators': 10}\n",
      "0.810819  with:   {'max_features': 5, 'n_estimators': 30}\n"
     ]
    }
   ],
   "source": [
    "#随机森林网格调参\n",
    "param_grid = [{'n_estimators': [3, 10, 30], 'max_features': [2, 3, 4, 5]}]\n",
    "forest_reg = RandomForestClassifier()\n",
    "searchmodel = GridSearchCV(forest_reg, param_grid, cv=5,\n",
    "                          scoring='accuracy')\n",
    "searchmodel.fit(X_train, y_train)\n",
    "print(searchmodel.best_score_)\n",
    "means = searchmodel.cv_results_['mean_test_score']\n",
    "params = searchmodel.cv_results_['params']\n",
    "for mean,param in zip(means,params):\n",
    "    print(\"%f  with:   %r\" % (mean,param))"
   ]
  },
  {
   "cell_type": "code",
   "execution_count": 12,
   "metadata": {},
   "outputs": [
    {
     "name": "stderr",
     "output_type": "stream",
     "text": [
      "D:\\Anaconda3\\lib\\site-packages\\sklearn\\linear_model\\_logistic.py:814: ConvergenceWarning: lbfgs failed to converge (status=1):\n",
      "STOP: TOTAL NO. of ITERATIONS REACHED LIMIT.\n",
      "\n",
      "Increase the number of iterations (max_iter) or scale the data as shown in:\n",
      "    https://scikit-learn.org/stable/modules/preprocessing.html\n",
      "Please also refer to the documentation for alternative solver options:\n",
      "    https://scikit-learn.org/stable/modules/linear_model.html#logistic-regression\n",
      "  n_iter_i = _check_optimize_result(\n",
      "D:\\Anaconda3\\lib\\site-packages\\sklearn\\svm\\_base.py:284: ConvergenceWarning: Solver terminated early (max_iter=1000).  Consider pre-processing your data with StandardScaler or MinMaxScaler.\n",
      "  warnings.warn(\n"
     ]
    },
    {
     "data": {
      "text/html": [
       "<div>\n",
       "<style scoped>\n",
       "    .dataframe tbody tr th:only-of-type {\n",
       "        vertical-align: middle;\n",
       "    }\n",
       "\n",
       "    .dataframe tbody tr th {\n",
       "        vertical-align: top;\n",
       "    }\n",
       "\n",
       "    .dataframe thead th {\n",
       "        text-align: right;\n",
       "    }\n",
       "</style>\n",
       "<table border=\"1\" class=\"dataframe\">\n",
       "  <thead>\n",
       "    <tr style=\"text-align: right;\">\n",
       "      <th></th>\n",
       "      <th>LR</th>\n",
       "      <th>SVC</th>\n",
       "      <th>RF</th>\n",
       "    </tr>\n",
       "  </thead>\n",
       "  <tbody>\n",
       "    <tr>\n",
       "      <th>0</th>\n",
       "      <td>1</td>\n",
       "      <td>1</td>\n",
       "      <td>0</td>\n",
       "    </tr>\n",
       "    <tr>\n",
       "      <th>1</th>\n",
       "      <td>0</td>\n",
       "      <td>0</td>\n",
       "      <td>0</td>\n",
       "    </tr>\n",
       "    <tr>\n",
       "      <th>2</th>\n",
       "      <td>0</td>\n",
       "      <td>0</td>\n",
       "      <td>0</td>\n",
       "    </tr>\n",
       "    <tr>\n",
       "      <th>3</th>\n",
       "      <td>1</td>\n",
       "      <td>0</td>\n",
       "      <td>0</td>\n",
       "    </tr>\n",
       "    <tr>\n",
       "      <th>4</th>\n",
       "      <td>0</td>\n",
       "      <td>0</td>\n",
       "      <td>0</td>\n",
       "    </tr>\n",
       "  </tbody>\n",
       "</table>\n",
       "</div>"
      ],
      "text/plain": [
       "   LR  SVC  RF\n",
       "0   1    1   0\n",
       "1   0    0   0\n",
       "2   0    0   0\n",
       "3   1    0   0\n",
       "4   0    0   0"
      ]
     },
     "execution_count": 12,
     "metadata": {},
     "output_type": "execute_result"
    }
   ],
   "source": [
    "#集成逻辑回归，支持向量机，随机森林三个模型\n",
    "#训练三个模型\n",
    "#LogisticRegression算法\n",
    "LR = LogisticRegression(C=1e10, class_weight = 'balanced')\n",
    "LR.fit(X_train,y_train)\n",
    "#支持向量机模型\n",
    "from sklearn.svm import SVC\n",
    "SVC=SVC(C=0.25,kernel='rbf',max_iter=1000)\n",
    "SVC.fit(X_train,y_train)\n",
    "#随机森林\n",
    "RF = RandomForestClassifier(n_estimators=10,max_features=2)\n",
    "RF.fit(X_train,y_train)\n",
    "#集成三个模型结果\n",
    "Y_pred1= LR.predict(X_test)\n",
    "Y_pred2=SVC.predict(X_test)\n",
    "Y_pred3=RF.predict(X_test)\n",
    "c={\"LR\":Y_pred1,\"SVC\":Y_pred2,\"RF\":Y_pred3}\n",
    "pred=pd.DataFrame(c)\n",
    "pred.head()"
   ]
  },
  {
   "cell_type": "code",
   "execution_count": 13,
   "metadata": {},
   "outputs": [
    {
     "data": {
      "text/plain": [
       "array([[11861,  3293],\n",
       "       [ 1707,  1877]], dtype=int64)"
      ]
     },
     "execution_count": 13,
     "metadata": {},
     "output_type": "execute_result"
    }
   ],
   "source": [
    "from sklearn.metrics import confusion_matrix\n",
    "pred_z=(pred.sum(axis=1)>1)\n",
    "#计算混淆函数\n",
    "confusion_matrix(y_test,pred_z)"
   ]
  },
  {
   "cell_type": "code",
   "execution_count": 14,
   "metadata": {},
   "outputs": [
    {
     "data": {
      "text/plain": [
       "0.5229083665338645"
      ]
     },
     "execution_count": 14,
     "metadata": {},
     "output_type": "execute_result"
    }
   ],
   "source": [
    "#计算精准率\n",
    "precision_score(y_test,Y_pred_test)"
   ]
  },
  {
   "cell_type": "code",
   "execution_count": 15,
   "metadata": {},
   "outputs": [
    {
     "data": {
      "text/plain": [
       "0.29296875"
      ]
     },
     "execution_count": 15,
     "metadata": {},
     "output_type": "execute_result"
    }
   ],
   "source": [
    "#计算召回率\n",
    "recall_score(y_test,Y_pred_test)"
   ]
  },
  {
   "cell_type": "code",
   "execution_count": 16,
   "metadata": {},
   "outputs": [
    {
     "data": {
      "text/html": [
       "<div>\n",
       "<style scoped>\n",
       "    .dataframe tbody tr th:only-of-type {\n",
       "        vertical-align: middle;\n",
       "    }\n",
       "\n",
       "    .dataframe tbody tr th {\n",
       "        vertical-align: top;\n",
       "    }\n",
       "\n",
       "    .dataframe thead th {\n",
       "        text-align: right;\n",
       "    }\n",
       "</style>\n",
       "<table border=\"1\" class=\"dataframe\">\n",
       "  <thead>\n",
       "    <tr style=\"text-align: right;\">\n",
       "      <th></th>\n",
       "      <th>Field_info1_A</th>\n",
       "      <th>Field_info1_B</th>\n",
       "      <th>Field_info1_C</th>\n",
       "      <th>Field_info1_D</th>\n",
       "      <th>Field_info1_E</th>\n",
       "      <th>Field_info1_F</th>\n",
       "      <th>Field_info1_J</th>\n",
       "      <th>Field_info1_K</th>\n",
       "      <th>Field_info3_1,113</th>\n",
       "      <th>Field_info3_1,165</th>\n",
       "      <th>...</th>\n",
       "      <th>Property_info3_O</th>\n",
       "      <th>Property_info3_Q</th>\n",
       "      <th>Property_info3_R</th>\n",
       "      <th>Property_info3_S</th>\n",
       "      <th>Geographic_info4_N</th>\n",
       "      <th>Geographic_info4_Y</th>\n",
       "      <th>Geographic_info5_CA</th>\n",
       "      <th>Geographic_info5_IL</th>\n",
       "      <th>Geographic_info5_NJ</th>\n",
       "      <th>Geographic_info5_TX</th>\n",
       "    </tr>\n",
       "  </thead>\n",
       "  <tbody>\n",
       "    <tr>\n",
       "      <th>0</th>\n",
       "      <td>0</td>\n",
       "      <td>1</td>\n",
       "      <td>0</td>\n",
       "      <td>0</td>\n",
       "      <td>0</td>\n",
       "      <td>0</td>\n",
       "      <td>0</td>\n",
       "      <td>0</td>\n",
       "      <td>0</td>\n",
       "      <td>0</td>\n",
       "      <td>...</td>\n",
       "      <td>0</td>\n",
       "      <td>0</td>\n",
       "      <td>0</td>\n",
       "      <td>0</td>\n",
       "      <td>1</td>\n",
       "      <td>0</td>\n",
       "      <td>1</td>\n",
       "      <td>0</td>\n",
       "      <td>0</td>\n",
       "      <td>0</td>\n",
       "    </tr>\n",
       "    <tr>\n",
       "      <th>1</th>\n",
       "      <td>0</td>\n",
       "      <td>0</td>\n",
       "      <td>0</td>\n",
       "      <td>0</td>\n",
       "      <td>0</td>\n",
       "      <td>0</td>\n",
       "      <td>1</td>\n",
       "      <td>0</td>\n",
       "      <td>0</td>\n",
       "      <td>1</td>\n",
       "      <td>...</td>\n",
       "      <td>0</td>\n",
       "      <td>0</td>\n",
       "      <td>0</td>\n",
       "      <td>0</td>\n",
       "      <td>1</td>\n",
       "      <td>0</td>\n",
       "      <td>0</td>\n",
       "      <td>0</td>\n",
       "      <td>0</td>\n",
       "      <td>1</td>\n",
       "    </tr>\n",
       "    <tr>\n",
       "      <th>2</th>\n",
       "      <td>0</td>\n",
       "      <td>1</td>\n",
       "      <td>0</td>\n",
       "      <td>0</td>\n",
       "      <td>0</td>\n",
       "      <td>0</td>\n",
       "      <td>0</td>\n",
       "      <td>0</td>\n",
       "      <td>0</td>\n",
       "      <td>0</td>\n",
       "      <td>...</td>\n",
       "      <td>0</td>\n",
       "      <td>0</td>\n",
       "      <td>0</td>\n",
       "      <td>0</td>\n",
       "      <td>1</td>\n",
       "      <td>0</td>\n",
       "      <td>1</td>\n",
       "      <td>0</td>\n",
       "      <td>0</td>\n",
       "      <td>0</td>\n",
       "    </tr>\n",
       "    <tr>\n",
       "      <th>3</th>\n",
       "      <td>0</td>\n",
       "      <td>0</td>\n",
       "      <td>0</td>\n",
       "      <td>0</td>\n",
       "      <td>0</td>\n",
       "      <td>0</td>\n",
       "      <td>1</td>\n",
       "      <td>0</td>\n",
       "      <td>1</td>\n",
       "      <td>0</td>\n",
       "      <td>...</td>\n",
       "      <td>1</td>\n",
       "      <td>0</td>\n",
       "      <td>0</td>\n",
       "      <td>0</td>\n",
       "      <td>1</td>\n",
       "      <td>0</td>\n",
       "      <td>0</td>\n",
       "      <td>0</td>\n",
       "      <td>0</td>\n",
       "      <td>1</td>\n",
       "    </tr>\n",
       "    <tr>\n",
       "      <th>4</th>\n",
       "      <td>0</td>\n",
       "      <td>0</td>\n",
       "      <td>0</td>\n",
       "      <td>0</td>\n",
       "      <td>0</td>\n",
       "      <td>1</td>\n",
       "      <td>0</td>\n",
       "      <td>0</td>\n",
       "      <td>0</td>\n",
       "      <td>0</td>\n",
       "      <td>...</td>\n",
       "      <td>0</td>\n",
       "      <td>0</td>\n",
       "      <td>1</td>\n",
       "      <td>0</td>\n",
       "      <td>1</td>\n",
       "      <td>0</td>\n",
       "      <td>0</td>\n",
       "      <td>0</td>\n",
       "      <td>1</td>\n",
       "      <td>0</td>\n",
       "    </tr>\n",
       "  </tbody>\n",
       "</table>\n",
       "<p>5 rows × 100 columns</p>\n",
       "</div>"
      ],
      "text/plain": [
       "   Field_info1_A  Field_info1_B  Field_info1_C  Field_info1_D  Field_info1_E  \\\n",
       "0              0              1              0              0              0   \n",
       "1              0              0              0              0              0   \n",
       "2              0              1              0              0              0   \n",
       "3              0              0              0              0              0   \n",
       "4              0              0              0              0              0   \n",
       "\n",
       "   Field_info1_F  Field_info1_J  Field_info1_K  Field_info3_1,113  \\\n",
       "0              0              0              0                  0   \n",
       "1              0              1              0                  0   \n",
       "2              0              0              0                  0   \n",
       "3              0              1              0                  1   \n",
       "4              1              0              0                  0   \n",
       "\n",
       "   Field_info3_1,165  ...  Property_info3_O  Property_info3_Q  \\\n",
       "0                  0  ...                 0                 0   \n",
       "1                  1  ...                 0                 0   \n",
       "2                  0  ...                 0                 0   \n",
       "3                  0  ...                 1                 0   \n",
       "4                  0  ...                 0                 0   \n",
       "\n",
       "   Property_info3_R  Property_info3_S  Geographic_info4_N  Geographic_info4_Y  \\\n",
       "0                 0                 0                   1                   0   \n",
       "1                 0                 0                   1                   0   \n",
       "2                 0                 0                   1                   0   \n",
       "3                 0                 0                   1                   0   \n",
       "4                 1                 0                   1                   0   \n",
       "\n",
       "   Geographic_info5_CA  Geographic_info5_IL  Geographic_info5_NJ  \\\n",
       "0                    1                    0                    0   \n",
       "1                    0                    0                    0   \n",
       "2                    1                    0                    0   \n",
       "3                    0                    0                    0   \n",
       "4                    0                    0                    1   \n",
       "\n",
       "   Geographic_info5_TX  \n",
       "0                    0  \n",
       "1                    1  \n",
       "2                    0  \n",
       "3                    1  \n",
       "4                    0  \n",
       "\n",
       "[5 rows x 100 columns]"
      ]
     },
     "execution_count": 16,
     "metadata": {},
     "output_type": "execute_result"
    }
   ],
   "source": [
    "#类别型变量处理one-hot编码\n",
    "Xcate=pd.get_dummies(dfcate)\n",
    "Xcate.head()"
   ]
  }
 ],
 "metadata": {
  "kernelspec": {
   "display_name": "Python 3 (ipykernel)",
   "language": "python",
   "name": "python3"
  },
  "language_info": {
   "codemirror_mode": {
    "name": "ipython",
    "version": 3
   },
   "file_extension": ".py",
   "mimetype": "text/x-python",
   "name": "python",
   "nbconvert_exporter": "python",
   "pygments_lexer": "ipython3",
   "version": "3.9.12"
  },
  "toc": {
   "base_numbering": 1,
   "nav_menu": {},
   "number_sections": true,
   "sideBar": true,
   "skip_h1_title": false,
   "title_cell": "Table of Contents",
   "title_sidebar": "Contents",
   "toc_cell": false,
   "toc_position": {},
   "toc_section_display": true,
   "toc_window_display": false
  }
 },
 "nbformat": 4,
 "nbformat_minor": 2
}
