{
 "cells": [
  {
   "cell_type": "code",
   "execution_count": 1,
   "metadata": {},
   "outputs": [],
   "source": [
    "#导入相关工具包\n",
    "import pandas as pd\n",
    "import numpy as np\n",
    "import matplotlib.pyplot as plt\n",
    "import seaborn as sns\n",
    "import datetime\n",
    "from sklearn.preprocessing import LabelEncoder\n",
    "from sklearn.feature_selection import SelectKBest\n",
    "import warnings\n",
    "from sklearn.model_selection import StratifiedKFold, KFold\n",
    "warnings.filterwarnings('ignore')\n",
    "plt.rcParams['font.sans-serif']=['SimHei'] #黑体，没有此行会显示缺少字体的错误提示"
   ]
  },
  {
   "cell_type": "code",
   "execution_count": 2,
   "metadata": {},
   "outputs": [],
   "source": [
    "data_test = pd.read_csv('test_public.csv')"
   ]
  },
  {
   "cell_type": "code",
   "execution_count": 3,
   "metadata": {},
   "outputs": [
    {
     "data": {
      "text/plain": [
       "(5000, 38)"
      ]
     },
     "execution_count": 3,
     "metadata": {},
     "output_type": "execute_result"
    }
   ],
   "source": [
    "data_test.shape"
   ]
  },
  {
   "cell_type": "code",
   "execution_count": 4,
   "metadata": {},
   "outputs": [],
   "source": [
    "#查找出数据中的对象特征和数值特征\n",
    "numerical_fea = list(data_test.select_dtypes(exclude=['object']).columns)\n",
    "category_fea = list(filter(lambda x: x not in numerical_fea,list(data_test.columns)))"
   ]
  },
  {
   "cell_type": "markdown",
   "metadata": {},
   "source": [
    "### 时间格式处理"
   ]
  },
  {
   "cell_type": "code",
   "execution_count": 5,
   "metadata": {
    "scrolled": true
   },
   "outputs": [],
   "source": [
    "# 日期类型：issueDate，earliesCreditLine\n",
    "# 转换为pandas中的日期类型\n",
    "data_test['issue_date'] = pd.to_datetime(data_test['issue_date'])\n",
    "# 提取多尺度特征\n",
    "data_test['issue_date_y'] = data_test['issue_date'].dt.year\n",
    "data_test['issue_date_m'] = data_test['issue_date'].dt.month\n",
    "# 提取时间diff\n",
    "# 设置初始的时间\n",
    "base_time = datetime.datetime.strptime('2007-06-01', '%Y-%m-%d')\n",
    "# 转换为天为单位\n",
    "data_test['issue_date_diff'] = data_test['issue_date'].apply(lambda x: x-base_time).dt.days\n",
    "data_test[['issue_date', 'issue_date_y', 'issue_date_m', 'issue_date_diff']]\n",
    "data_test.drop('issue_date', axis = 1, inplace = True)"
   ]
  },
  {
   "cell_type": "code",
   "execution_count": 6,
   "metadata": {},
   "outputs": [
    {
     "data": {
      "text/plain": [
       "(5000, 4)"
      ]
     },
     "execution_count": 6,
     "metadata": {},
     "output_type": "execute_result"
    }
   ],
   "source": [
    "#时间格式处理\n",
    "df1=data_test[[ 'user_id','issue_date_y', 'issue_date_m', 'issue_date_diff']]\n",
    "df1=df1.reset_index(drop=True)\n",
    "df1.shape"
   ]
  },
  {
   "cell_type": "markdown",
   "metadata": {},
   "source": [
    "### 类别特征处理"
   ]
  },
  {
   "cell_type": "code",
   "execution_count": 7,
   "metadata": {},
   "outputs": [],
   "source": [
    "from sklearn import preprocessing\n",
    "le=preprocessing.LabelEncoder()\n",
    "le.fit(data_test['earlies_credit_mon'].values)\n",
    "data_test['earlies_credit_mon']=le.transform(data_test['earlies_credit_mon'].values)"
   ]
  },
  {
   "cell_type": "code",
   "execution_count": 8,
   "metadata": {
    "scrolled": true
   },
   "outputs": [
    {
     "name": "stdout",
     "output_type": "stream",
     "text": [
      "class 类型数： 7\n",
      "employer_type 类型数： 6\n",
      "industry 类型数： 14\n",
      "work_year 类型数： 11\n",
      "earlies_credit_mon 类型数： 476\n"
     ]
    }
   ],
   "source": [
    "# 部分类别特征\n",
    "cate_features = ['class','employer_type' ,'industry','work_year','earlies_credit_mon']\n",
    "for f in cate_features:\n",
    "    print(f, '类型数：', data_test[f].nunique())"
   ]
  },
  {
   "cell_type": "code",
   "execution_count": 9,
   "metadata": {},
   "outputs": [],
   "source": [
    "data_test['class'] = data_test['class'].map({'A': 0, 'B': 1, 'C': 2, 'D': 3, 'E': 4, 'F': 5, 'G': 6})"
   ]
  },
  {
   "cell_type": "code",
   "execution_count": 10,
   "metadata": {},
   "outputs": [],
   "source": [
    "for data in [data_test]:\n",
    "    data = pd.get_dummies(data, columns=[ 'employer_type', 'industry', 'work_year'], drop_first=True)"
   ]
  },
  {
   "cell_type": "code",
   "execution_count": 11,
   "metadata": {},
   "outputs": [
    {
     "data": {
      "text/plain": [
       "(5000, 65)"
      ]
     },
     "execution_count": 11,
     "metadata": {},
     "output_type": "execute_result"
    }
   ],
   "source": [
    "data_test=data\n",
    "data_test.shape"
   ]
  },
  {
   "cell_type": "markdown",
   "metadata": {},
   "source": [
    "### 缺失值处理"
   ]
  },
  {
   "cell_type": "code",
   "execution_count": 12,
   "metadata": {},
   "outputs": [
    {
     "data": {
      "text/plain": [
       "loan_id               0\n",
       "user_id               0\n",
       "total_loan            0\n",
       "year_of_loan          0\n",
       "interest              0\n",
       "                     ..\n",
       "work_year_6 years     0\n",
       "work_year_7 years     0\n",
       "work_year_8 years     0\n",
       "work_year_9 years     0\n",
       "work_year_< 1 year    0\n",
       "Length: 65, dtype: int64"
      ]
     },
     "execution_count": 12,
     "metadata": {},
     "output_type": "execute_result"
    }
   ],
   "source": [
    "#显示所有行\n",
    "#pd.set_option('display.max_rows',None)\n",
    "data_test.isnull().sum()"
   ]
  },
  {
   "cell_type": "code",
   "execution_count": 13,
   "metadata": {},
   "outputs": [],
   "source": [
    "#删除policy_code和loan_id\n",
    "numerical_fea.remove('policy_code')\n",
    "numerical_fea.remove('loan_id')"
   ]
  },
  {
   "cell_type": "code",
   "execution_count": 14,
   "metadata": {},
   "outputs": [],
   "source": [
    "#按照平均数填充数值型特征\n",
    "data_test[numerical_fea] = data_test[numerical_fea].fillna(data_test[numerical_fea].median())"
   ]
  },
  {
   "cell_type": "markdown",
   "metadata": {},
   "source": [
    "### 数据分桶"
   ]
  },
  {
   "cell_type": "code",
   "execution_count": 15,
   "metadata": {},
   "outputs": [],
   "source": [
    "#过滤数值型类别特征\n",
    "def get_numerical_serial_fea(data,feas):\n",
    "    numerical_serial_fea = []\n",
    "    numerical_noserial_fea = []\n",
    "    for fea in feas:\n",
    "        temp = data[fea].nunique()\n",
    "        if temp <= 10:\n",
    "            numerical_noserial_fea.append(fea)\n",
    "            continue\n",
    "        numerical_serial_fea.append(fea)\n",
    "    return numerical_serial_fea,numerical_noserial_fea\n",
    "numerical_serial_fea,numerical_noserial_fea = get_numerical_serial_fea(data_test,numerical_fea)"
   ]
  },
  {
   "cell_type": "code",
   "execution_count": 16,
   "metadata": {},
   "outputs": [
    {
     "data": {
      "text/plain": [
       "(21, 9)"
      ]
     },
     "execution_count": 16,
     "metadata": {},
     "output_type": "execute_result"
    }
   ],
   "source": [
    "len(numerical_serial_fea),len(numerical_noserial_fea)"
   ]
  },
  {
   "cell_type": "code",
   "execution_count": 17,
   "metadata": {},
   "outputs": [],
   "source": [
    "data1=data_test.loc[:,numerical_serial_fea]"
   ]
  },
  {
   "cell_type": "code",
   "execution_count": 18,
   "metadata": {},
   "outputs": [
    {
     "data": {
      "text/html": [
       "<div>\n",
       "<style scoped>\n",
       "    .dataframe tbody tr th:only-of-type {\n",
       "        vertical-align: middle;\n",
       "    }\n",
       "\n",
       "    .dataframe tbody tr th {\n",
       "        vertical-align: top;\n",
       "    }\n",
       "\n",
       "    .dataframe thead th {\n",
       "        text-align: right;\n",
       "    }\n",
       "</style>\n",
       "<table border=\"1\" class=\"dataframe\">\n",
       "  <thead>\n",
       "    <tr style=\"text-align: right;\">\n",
       "      <th></th>\n",
       "      <th>std</th>\n",
       "    </tr>\n",
       "  </thead>\n",
       "  <tbody>\n",
       "    <tr>\n",
       "      <th>recircle_b</th>\n",
       "      <td>21757.810210</td>\n",
       "    </tr>\n",
       "    <tr>\n",
       "      <th>user_id</th>\n",
       "      <td>14431.348968</td>\n",
       "    </tr>\n",
       "    <tr>\n",
       "      <th>total_loan</th>\n",
       "      <td>8755.784815</td>\n",
       "    </tr>\n",
       "    <tr>\n",
       "      <th>title</th>\n",
       "      <td>7971.472766</td>\n",
       "    </tr>\n",
       "    <tr>\n",
       "      <th>early_return_amount</th>\n",
       "      <td>2995.760578</td>\n",
       "    </tr>\n",
       "    <tr>\n",
       "      <th>early_return_amount_3mon</th>\n",
       "      <td>623.447110</td>\n",
       "    </tr>\n",
       "    <tr>\n",
       "      <th>monthly_payment</th>\n",
       "      <td>251.272924</td>\n",
       "    </tr>\n",
       "    <tr>\n",
       "      <th>post_code</th>\n",
       "      <td>201.484039</td>\n",
       "    </tr>\n",
       "    <tr>\n",
       "      <th>scoring_high</th>\n",
       "      <td>100.014385</td>\n",
       "    </tr>\n",
       "    <tr>\n",
       "      <th>scoring_low</th>\n",
       "      <td>76.529284</td>\n",
       "    </tr>\n",
       "  </tbody>\n",
       "</table>\n",
       "</div>"
      ],
      "text/plain": [
       "                                   std\n",
       "recircle_b                21757.810210\n",
       "user_id                   14431.348968\n",
       "total_loan                 8755.784815\n",
       "title                      7971.472766\n",
       "early_return_amount        2995.760578\n",
       "early_return_amount_3mon    623.447110\n",
       "monthly_payment             251.272924\n",
       "post_code                   201.484039\n",
       "scoring_high                100.014385\n",
       "scoring_low                  76.529284"
      ]
     },
     "execution_count": 18,
     "metadata": {},
     "output_type": "execute_result"
    }
   ],
   "source": [
    "#查看数值型的标准差\n",
    "data1_std=data1.std().sort_values(ascending=False)\n",
    "pd.DataFrame(data1_std,columns=['std']).head(10)"
   ]
  },
  {
   "cell_type": "code",
   "execution_count": 19,
   "metadata": {},
   "outputs": [],
   "source": [
    "data1_index=['recircle_b','total_loan','title','early_return_amount']"
   ]
  },
  {
   "cell_type": "code",
   "execution_count": 20,
   "metadata": {},
   "outputs": [
    {
     "data": {
      "image/png": "[encoded data removed]",
      "text/plain": [
       "<Figure size 1152x1152 with 4 Axes>"
      ]
     },
     "metadata": {
      "needs_background": "light"
     },
     "output_type": "display_data"
    }
   ],
   "source": [
    "#对标准差大于1000的画图\n",
    "dist_cols=2\n",
    "dist_rows=2\n",
    "plt.figure(figsize=(8*dist_cols,8*dist_rows))\n",
    "i=1\n",
    "for col in data1_index:\n",
    "    ax=plt.subplot(dist_rows,dist_cols,i)\n",
    "    ax=plt.plot(data1[col])\n",
    "    i+=1\n",
    "plt.show()"
   ]
  },
  {
   "cell_type": "code",
   "execution_count": 21,
   "metadata": {},
   "outputs": [],
   "source": [
    "#对data1_index分箱处理\n",
    "for i in data1_index:\n",
    "    data1[i] = pd.qcut(data1[i], 10, labels=False,duplicates='drop')"
   ]
  },
  {
   "cell_type": "markdown",
   "metadata": {},
   "source": [
    "### 特征交互"
   ]
  },
  {
   "cell_type": "code",
   "execution_count": 22,
   "metadata": {},
   "outputs": [],
   "source": [
    "data2=data1.iloc[:,1:]"
   ]
  },
  {
   "cell_type": "code",
   "execution_count": 23,
   "metadata": {},
   "outputs": [
    {
     "data": {
      "text/plain": [
       "(5000, 1771)"
      ]
     },
     "execution_count": 23,
     "metadata": {},
     "output_type": "execute_result"
    }
   ],
   "source": [
    "from sklearn.preprocessing import PolynomialFeatures\n",
    "#多项式特征构造\n",
    "poly = PolynomialFeatures(degree=3, include_bias=True)\n",
    "poly.fit(data2)\n",
    "X_poly = poly.transform(data2)\n",
    "X_poly.shape"
   ]
  },
  {
   "cell_type": "code",
   "execution_count": 24,
   "metadata": {},
   "outputs": [
    {
     "data": {
      "text/plain": [
       "(5000, 1772)"
      ]
     },
     "execution_count": 24,
     "metadata": {},
     "output_type": "execute_result"
    }
   ],
   "source": [
    "data3=pd.DataFrame(X_poly,index=data1['user_id'])\n",
    "data3=data3.rename_axis('user_id').reset_index()\n",
    "data3.shape"
   ]
  },
  {
   "cell_type": "code",
   "execution_count": 25,
   "metadata": {},
   "outputs": [
    {
     "data": {
      "text/plain": [
       "(5000, 1839)"
      ]
     },
     "execution_count": 25,
     "metadata": {},
     "output_type": "execute_result"
    }
   ],
   "source": [
    "#将数据合并\n",
    "data4=pd.merge(df1,data_test,on='user_id')\n",
    "data5=pd.merge(data4,data3,on='user_id')\n",
    "data5.shape"
   ]
  },
  {
   "cell_type": "markdown",
   "metadata": {},
   "source": [
    "### 特征筛选"
   ]
  },
  {
   "cell_type": "code",
   "execution_count": 27,
   "metadata": {},
   "outputs": [],
   "source": [
    "##方差筛选\n",
    "from sklearn.feature_selection import VarianceThreshold\n",
    "var_selector = VarianceThreshold(threshold = 1)#设置方差过滤阈值为1\n",
    "var_selector.fit_transform(data5)\n",
    "is_select = var_selector.get_support()#get_support函数返回方差＞阈值的布尔值序列\n",
    "var_feature = data5.iloc[:,is_select]#根据布尔值序列取出各个特征所在列"
   ]
  },
  {
   "cell_type": "code",
   "execution_count": 29,
   "metadata": {},
   "outputs": [],
   "source": [
    "##相关性筛选\n",
    "from sklearn.feature_selection import mutual_info_regression\n",
    "append_frame = var_feature#先复制dataFrame\n",
    "corr = append_frame.corr()\n",
    "corr_series = pd.Series(data = corr.iloc[-1,:-1])\n",
    "corr_sort = corr_series.abs().sort_values(ascending = False)\n"
   ]
  },
  {
   "cell_type": "code",
   "execution_count": 30,
   "metadata": {},
   "outputs": [
    {
     "data": {
      "text/plain": [
       "Text(0.5, 1.0, '基于相关系数的相关性筛选')"
      ]
     },
     "execution_count": 30,
     "metadata": {},
     "output_type": "execute_result"
    },
    {
     "data": {
      "image/png": "[encoded data removed]",
      "text/plain": [
       "<Figure size 1152x432 with 1 Axes>"
      ]
     },
     "metadata": {
      "needs_background": "light"
     },
     "output_type": "display_data"
    }
   ],
   "source": [
    "plt.figure(figsize=(16,6))\n",
    "sns.barplot(corr_sort.values[:30], corr_sort.index[:30], orient='h')\n",
    "plt.title(\"基于相关系数的相关性筛选\")"
   ]
  },
  {
   "cell_type": "code",
   "execution_count": 31,
   "metadata": {},
   "outputs": [],
   "source": [
    "data6=data5.loc[:,corr_sort.index[:30]]\n",
    "data6.to_csv('test30.csv')"
   ]
  },
  {
   "cell_type": "code",
   "execution_count": null,
   "metadata": {},
   "outputs": [],
   "source": []
  }
 ],
 "metadata": {
  "kernelspec": {
   "display_name": "Python 3",
   "language": "python",
   "name": "python3"
  },
  "language_info": {
   "codemirror_mode": {
    "name": "ipython",
    "version": 3
   },
   "file_extension": ".py",
   "mimetype": "text/x-python",
   "name": "python",
   "nbconvert_exporter": "python",
   "pygments_lexer": "ipython3",
   "version": "3.8.5"
  }
 },
 "nbformat": 4,
 "nbformat_minor": 5
}
