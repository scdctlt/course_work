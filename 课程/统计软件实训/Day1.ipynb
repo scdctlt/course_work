{
 "cells": [
  {
   "cell_type": "markdown",
   "metadata": {},
   "source": [
    "加载必要的库"
   ]
  },
  {
   "cell_type": "code",
   "execution_count": 1,
   "metadata": {},
   "outputs": [],
   "source": [
    "import pandas as pd\n",
    "import seaborn as sns \n",
    "import matplotlib.pyplot as plt\n",
    "from sklearn import preprocessing\n",
    "from scipy.stats import chi2_contingency\n",
    "sns.set(palette=\"muted\", color_codes=True)"
   ]
  },
  {
   "cell_type": "code",
   "execution_count": 2,
   "metadata": {},
   "outputs": [
    {
     "data": {
      "text/html": [
       "<div>\n",
       "<style scoped>\n",
       "    .dataframe tbody tr th:only-of-type {\n",
       "        vertical-align: middle;\n",
       "    }\n",
       "\n",
       "    .dataframe tbody tr th {\n",
       "        vertical-align: top;\n",
       "    }\n",
       "\n",
       "    .dataframe thead th {\n",
       "        text-align: right;\n",
       "    }\n",
       "</style>\n",
       "<table border=\"1\" class=\"dataframe\">\n",
       "  <thead>\n",
       "    <tr style=\"text-align: right;\">\n",
       "      <th></th>\n",
       "      <th>Quote_Id</th>\n",
       "      <th>Quote_Date</th>\n",
       "      <th>Quote_Flag</th>\n",
       "      <th>Field_info1</th>\n",
       "      <th>Field_info2</th>\n",
       "      <th>Field_info3</th>\n",
       "      <th>Field_info4</th>\n",
       "      <th>Coverage_info1</th>\n",
       "      <th>Coverage_info2</th>\n",
       "      <th>Coverage_info3</th>\n",
       "      <th>...</th>\n",
       "      <th>Property_info1</th>\n",
       "      <th>Property_info2</th>\n",
       "      <th>Property_info3</th>\n",
       "      <th>Property_info4</th>\n",
       "      <th>Property_info5</th>\n",
       "      <th>Geographic_info1</th>\n",
       "      <th>Geographic_info2</th>\n",
       "      <th>Geographic_info3</th>\n",
       "      <th>Geographic_info4</th>\n",
       "      <th>Geographic_info5</th>\n",
       "    </tr>\n",
       "  </thead>\n",
       "  <tbody>\n",
       "    <tr>\n",
       "      <th>0</th>\n",
       "      <td>2</td>\n",
       "      <td>14/5/14</td>\n",
       "      <td>0</td>\n",
       "      <td>B</td>\n",
       "      <td>0.9153</td>\n",
       "      <td>935</td>\n",
       "      <td>N</td>\n",
       "      <td>5</td>\n",
       "      <td>2</td>\n",
       "      <td>D</td>\n",
       "      <td>...</td>\n",
       "      <td>N</td>\n",
       "      <td>0</td>\n",
       "      <td>D</td>\n",
       "      <td>1</td>\n",
       "      <td>6</td>\n",
       "      <td>2</td>\n",
       "      <td>13</td>\n",
       "      <td>-1</td>\n",
       "      <td>N</td>\n",
       "      <td>CA</td>\n",
       "    </tr>\n",
       "    <tr>\n",
       "      <th>1</th>\n",
       "      <td>3</td>\n",
       "      <td>19/6/13</td>\n",
       "      <td>0</td>\n",
       "      <td>J</td>\n",
       "      <td>0.9691</td>\n",
       "      <td>1,165</td>\n",
       "      <td>N</td>\n",
       "      <td>5</td>\n",
       "      <td>22</td>\n",
       "      <td>F</td>\n",
       "      <td>...</td>\n",
       "      <td>N</td>\n",
       "      <td>0</td>\n",
       "      <td>D</td>\n",
       "      <td>1</td>\n",
       "      <td>8</td>\n",
       "      <td>14</td>\n",
       "      <td>7</td>\n",
       "      <td>-1</td>\n",
       "      <td>N</td>\n",
       "      <td>TX</td>\n",
       "    </tr>\n",
       "    <tr>\n",
       "      <th>2</th>\n",
       "      <td>6</td>\n",
       "      <td>6/2/15</td>\n",
       "      <td>0</td>\n",
       "      <td>B</td>\n",
       "      <td>0.9153</td>\n",
       "      <td>935</td>\n",
       "      <td>N</td>\n",
       "      <td>6</td>\n",
       "      <td>22</td>\n",
       "      <td>D</td>\n",
       "      <td>...</td>\n",
       "      <td>N</td>\n",
       "      <td>0</td>\n",
       "      <td>D</td>\n",
       "      <td>1</td>\n",
       "      <td>11</td>\n",
       "      <td>2</td>\n",
       "      <td>12</td>\n",
       "      <td>-1</td>\n",
       "      <td>N</td>\n",
       "      <td>CA</td>\n",
       "    </tr>\n",
       "    <tr>\n",
       "      <th>3</th>\n",
       "      <td>9</td>\n",
       "      <td>15/10/14</td>\n",
       "      <td>0</td>\n",
       "      <td>J</td>\n",
       "      <td>0.8793</td>\n",
       "      <td>1,113</td>\n",
       "      <td>N</td>\n",
       "      <td>1</td>\n",
       "      <td>22</td>\n",
       "      <td>F</td>\n",
       "      <td>...</td>\n",
       "      <td>N</td>\n",
       "      <td>0</td>\n",
       "      <td>O</td>\n",
       "      <td>0</td>\n",
       "      <td>1</td>\n",
       "      <td>14</td>\n",
       "      <td>6</td>\n",
       "      <td>-1</td>\n",
       "      <td>N</td>\n",
       "      <td>TX</td>\n",
       "    </tr>\n",
       "    <tr>\n",
       "      <th>4</th>\n",
       "      <td>10</td>\n",
       "      <td>30/3/15</td>\n",
       "      <td>1</td>\n",
       "      <td>F</td>\n",
       "      <td>1.0101</td>\n",
       "      <td>548</td>\n",
       "      <td>N</td>\n",
       "      <td>13</td>\n",
       "      <td>22</td>\n",
       "      <td>E</td>\n",
       "      <td>...</td>\n",
       "      <td>N</td>\n",
       "      <td>0</td>\n",
       "      <td>R</td>\n",
       "      <td>1</td>\n",
       "      <td>25</td>\n",
       "      <td>4</td>\n",
       "      <td>22</td>\n",
       "      <td>-1</td>\n",
       "      <td>N</td>\n",
       "      <td>NJ</td>\n",
       "    </tr>\n",
       "  </tbody>\n",
       "</table>\n",
       "<p>5 rows × 30 columns</p>\n",
       "</div>"
      ],
      "text/plain": [
       "   Quote_Id Quote_Date  Quote_Flag Field_info1  Field_info2 Field_info3  \\\n",
       "0         2    14/5/14           0           B       0.9153         935   \n",
       "1         3    19/6/13           0           J       0.9691       1,165   \n",
       "2         6     6/2/15           0           B       0.9153         935   \n",
       "3         9   15/10/14           0           J       0.8793       1,113   \n",
       "4        10    30/3/15           1           F       1.0101         548   \n",
       "\n",
       "  Field_info4  Coverage_info1  Coverage_info2 Coverage_info3  ...  \\\n",
       "0           N               5               2              D  ...   \n",
       "1           N               5              22              F  ...   \n",
       "2           N               6              22              D  ...   \n",
       "3           N               1              22              F  ...   \n",
       "4           N              13              22              E  ...   \n",
       "\n",
       "   Property_info1  Property_info2  Property_info3 Property_info4  \\\n",
       "0               N               0               D              1   \n",
       "1               N               0               D              1   \n",
       "2               N               0               D              1   \n",
       "3               N               0               O              0   \n",
       "4               N               0               R              1   \n",
       "\n",
       "   Property_info5 Geographic_info1  Geographic_info2 Geographic_info3  \\\n",
       "0               6                2                13               -1   \n",
       "1               8               14                 7               -1   \n",
       "2              11                2                12               -1   \n",
       "3               1               14                 6               -1   \n",
       "4              25                4                22               -1   \n",
       "\n",
       "   Geographic_info4  Geographic_info5  \n",
       "0                 N                CA  \n",
       "1                 N                TX  \n",
       "2                 N                CA  \n",
       "3                 N                TX  \n",
       "4                 N                NJ  \n",
       "\n",
       "[5 rows x 30 columns]"
      ]
     },
     "execution_count": 2,
     "metadata": {},
     "output_type": "execute_result"
    }
   ],
   "source": [
    "df = pd.read_csv(\".\\数据集\\TrainingData.csv\", header=0)\n",
    "df.head()"
   ]
  },
  {
   "cell_type": "markdown",
   "metadata": {},
   "source": [
    "查看数据信息"
   ]
  },
  {
   "cell_type": "code",
   "execution_count": 3,
   "metadata": {
    "scrolled": true
   },
   "outputs": [
    {
     "name": "stdout",
     "output_type": "stream",
     "text": [
      "<class 'pandas.core.frame.DataFrame'>\n",
      "RangeIndex: 62580 entries, 0 to 62579\n",
      "Data columns (total 30 columns):\n",
      " #   Column            Non-Null Count  Dtype  \n",
      "---  ------            --------------  -----  \n",
      " 0   Quote_Id          62580 non-null  int64  \n",
      " 1   Quote_Date        62580 non-null  object \n",
      " 2   Quote_Flag        62580 non-null  int64  \n",
      " 3   Field_info1       62580 non-null  object \n",
      " 4   Field_info2       62580 non-null  float64\n",
      " 5   Field_info3       62580 non-null  object \n",
      " 6   Field_info4       62580 non-null  object \n",
      " 7   Coverage_info1    62580 non-null  int64  \n",
      " 8   Coverage_info2    62580 non-null  int64  \n",
      " 9   Coverage_info3    62580 non-null  object \n",
      " 10  Sales_info1       62580 non-null  int64  \n",
      " 11  Sales_info2       62580 non-null  int64  \n",
      " 12  Sales_info3       62580 non-null  int64  \n",
      " 13  Sales_info4       62580 non-null  object \n",
      " 14  Sales_info5       62580 non-null  int64  \n",
      " 15  Personal_info1    62557 non-null  object \n",
      " 16  Personal_info2    62580 non-null  int64  \n",
      " 17  Personal_info3    62580 non-null  object \n",
      " 18  Personal_info4    62580 non-null  int64  \n",
      " 19  Personal_info5    32792 non-null  float64\n",
      " 20  Property_info1    62564 non-null  object \n",
      " 21  Property_info2    62580 non-null  int64  \n",
      " 22  Property_info3    62580 non-null  object \n",
      " 23  Property_info4    62580 non-null  int64  \n",
      " 24  Property_info5    62580 non-null  int64  \n",
      " 25  Geographic_info1  62580 non-null  int64  \n",
      " 26  Geographic_info2  62580 non-null  int64  \n",
      " 27  Geographic_info3  62580 non-null  int64  \n",
      " 28  Geographic_info4  62579 non-null  object \n",
      " 29  Geographic_info5  62580 non-null  object \n",
      "dtypes: float64(2), int64(16), object(12)\n",
      "memory usage: 14.3+ MB\n"
     ]
    }
   ],
   "source": [
    "df.info()"
   ]
  },
  {
   "cell_type": "markdown",
   "metadata": {},
   "source": [
    "查看其它信息"
   ]
  },
  {
   "cell_type": "code",
   "execution_count": 4,
   "metadata": {},
   "outputs": [
    {
     "data": {
      "text/plain": [
       "(62580, 30)"
      ]
     },
     "execution_count": 4,
     "metadata": {},
     "output_type": "execute_result"
    }
   ],
   "source": [
    "df.shape"
   ]
  },
  {
   "cell_type": "code",
   "execution_count": 5,
   "metadata": {},
   "outputs": [
    {
     "data": {
      "text/plain": [
       "Index(['Quote_Id', 'Quote_Date', 'Quote_Flag', 'Field_info1', 'Field_info2',\n",
       "       'Field_info3', 'Field_info4', 'Coverage_info1', 'Coverage_info2',\n",
       "       'Coverage_info3', 'Sales_info1', 'Sales_info2', 'Sales_info3',\n",
       "       'Sales_info4', 'Sales_info5', 'Personal_info1', 'Personal_info2',\n",
       "       'Personal_info3', 'Personal_info4', 'Personal_info5', 'Property_info1',\n",
       "       'Property_info2', 'Property_info3', 'Property_info4', 'Property_info5',\n",
       "       'Geographic_info1', 'Geographic_info2', 'Geographic_info3',\n",
       "       'Geographic_info4', 'Geographic_info5'],\n",
       "      dtype='object')"
      ]
     },
     "execution_count": 5,
     "metadata": {},
     "output_type": "execute_result"
    }
   ],
   "source": [
    "df.columns"
   ]
  },
  {
   "cell_type": "markdown",
   "metadata": {},
   "source": [
    "查看Quote_Flag属性的取值"
   ]
  },
  {
   "cell_type": "code",
   "execution_count": 6,
   "metadata": {},
   "outputs": [
    {
     "data": {
      "text/plain": [
       "0    50625\n",
       "1    11955\n",
       "Name: Quote_Flag, dtype: int64"
      ]
     },
     "execution_count": 6,
     "metadata": {},
     "output_type": "execute_result"
    }
   ],
   "source": [
    "df['Quote_Flag'].value_counts()"
   ]
  },
  {
   "cell_type": "code",
   "execution_count": 7,
   "metadata": {},
   "outputs": [
    {
     "data": {
      "text/plain": [
       "2.0    32409\n",
       "1.0      364\n",
       "5.0       18\n",
       "3.0        1\n",
       "Name: Personal_info5, dtype: int64"
      ]
     },
     "execution_count": 7,
     "metadata": {},
     "output_type": "execute_result"
    }
   ],
   "source": [
    "df['Personal_info5'].value_counts()"
   ]
  },
  {
   "cell_type": "code",
   "execution_count": 8,
   "metadata": {},
   "outputs": [
    {
     "data": {
      "text/plain": [
       "29788"
      ]
     },
     "execution_count": 8,
     "metadata": {},
     "output_type": "execute_result"
    }
   ],
   "source": [
    "##统计Personal_info5缺失值情况\n",
    "df['Personal_info5'].isnull().sum()"
   ]
  },
  {
   "cell_type": "code",
   "execution_count": 9,
   "metadata": {},
   "outputs": [
    {
     "data": {
      "text/plain": [
       "Quote_Id                0\n",
       "Quote_Date              0\n",
       "Quote_Flag              0\n",
       "Field_info1             0\n",
       "Field_info2             0\n",
       "Field_info3             0\n",
       "Field_info4             0\n",
       "Coverage_info1          0\n",
       "Coverage_info2          0\n",
       "Coverage_info3          0\n",
       "Sales_info1             0\n",
       "Sales_info2             0\n",
       "Sales_info3             0\n",
       "Sales_info4             0\n",
       "Sales_info5             0\n",
       "Personal_info1         23\n",
       "Personal_info2          0\n",
       "Personal_info3          0\n",
       "Personal_info4          0\n",
       "Personal_info5      29788\n",
       "Property_info1         16\n",
       "Property_info2          0\n",
       "Property_info3          0\n",
       "Property_info4          0\n",
       "Property_info5          0\n",
       "Geographic_info1        0\n",
       "Geographic_info2        0\n",
       "Geographic_info3        0\n",
       "Geographic_info4        1\n",
       "Geographic_info5        0\n",
       "dtype: int64"
      ]
     },
     "execution_count": 9,
     "metadata": {},
     "output_type": "execute_result"
    }
   ],
   "source": [
    "##统计所有变量缺失值情况\n",
    "df.isnull().sum()"
   ]
  },
  {
   "cell_type": "code",
   "execution_count": 10,
   "metadata": {},
   "outputs": [
    {
     "data": {
      "text/html": [
       "<div>\n",
       "<style scoped>\n",
       "    .dataframe tbody tr th:only-of-type {\n",
       "        vertical-align: middle;\n",
       "    }\n",
       "\n",
       "    .dataframe tbody tr th {\n",
       "        vertical-align: top;\n",
       "    }\n",
       "\n",
       "    .dataframe thead th {\n",
       "        text-align: right;\n",
       "    }\n",
       "</style>\n",
       "<table border=\"1\" class=\"dataframe\">\n",
       "  <thead>\n",
       "    <tr style=\"text-align: right;\">\n",
       "      <th></th>\n",
       "      <th>Quote_Date</th>\n",
       "      <th>Field_info1</th>\n",
       "      <th>Field_info3</th>\n",
       "      <th>Field_info4</th>\n",
       "      <th>Coverage_info3</th>\n",
       "      <th>Sales_info4</th>\n",
       "      <th>Personal_info1</th>\n",
       "      <th>Personal_info3</th>\n",
       "      <th>Property_info1</th>\n",
       "      <th>Property_info3</th>\n",
       "      <th>Geographic_info4</th>\n",
       "      <th>Geographic_info5</th>\n",
       "    </tr>\n",
       "  </thead>\n",
       "  <tbody>\n",
       "    <tr>\n",
       "      <th>0</th>\n",
       "      <td>14/5/14</td>\n",
       "      <td>B</td>\n",
       "      <td>935</td>\n",
       "      <td>N</td>\n",
       "      <td>D</td>\n",
       "      <td>T</td>\n",
       "      <td>N</td>\n",
       "      <td>ZA</td>\n",
       "      <td>N</td>\n",
       "      <td>D</td>\n",
       "      <td>N</td>\n",
       "      <td>CA</td>\n",
       "    </tr>\n",
       "    <tr>\n",
       "      <th>1</th>\n",
       "      <td>19/6/13</td>\n",
       "      <td>J</td>\n",
       "      <td>1,165</td>\n",
       "      <td>N</td>\n",
       "      <td>F</td>\n",
       "      <td>P</td>\n",
       "      <td>N</td>\n",
       "      <td>XR</td>\n",
       "      <td>N</td>\n",
       "      <td>D</td>\n",
       "      <td>N</td>\n",
       "      <td>TX</td>\n",
       "    </tr>\n",
       "    <tr>\n",
       "      <th>2</th>\n",
       "      <td>6/2/15</td>\n",
       "      <td>B</td>\n",
       "      <td>935</td>\n",
       "      <td>N</td>\n",
       "      <td>D</td>\n",
       "      <td>V</td>\n",
       "      <td>N</td>\n",
       "      <td>ZA</td>\n",
       "      <td>N</td>\n",
       "      <td>D</td>\n",
       "      <td>N</td>\n",
       "      <td>CA</td>\n",
       "    </tr>\n",
       "    <tr>\n",
       "      <th>3</th>\n",
       "      <td>15/10/14</td>\n",
       "      <td>J</td>\n",
       "      <td>1,113</td>\n",
       "      <td>N</td>\n",
       "      <td>F</td>\n",
       "      <td>Q</td>\n",
       "      <td>N</td>\n",
       "      <td>ZA</td>\n",
       "      <td>N</td>\n",
       "      <td>O</td>\n",
       "      <td>N</td>\n",
       "      <td>TX</td>\n",
       "    </tr>\n",
       "    <tr>\n",
       "      <th>4</th>\n",
       "      <td>30/3/15</td>\n",
       "      <td>F</td>\n",
       "      <td>548</td>\n",
       "      <td>N</td>\n",
       "      <td>E</td>\n",
       "      <td>K</td>\n",
       "      <td>N</td>\n",
       "      <td>XD</td>\n",
       "      <td>N</td>\n",
       "      <td>R</td>\n",
       "      <td>N</td>\n",
       "      <td>NJ</td>\n",
       "    </tr>\n",
       "  </tbody>\n",
       "</table>\n",
       "</div>"
      ],
      "text/plain": [
       "  Quote_Date Field_info1 Field_info3 Field_info4 Coverage_info3 Sales_info4  \\\n",
       "0    14/5/14           B         935           N              D           T   \n",
       "1    19/6/13           J       1,165           N              F           P   \n",
       "2     6/2/15           B         935           N              D           V   \n",
       "3   15/10/14           J       1,113           N              F           Q   \n",
       "4    30/3/15           F         548           N              E           K   \n",
       "\n",
       "  Personal_info1 Personal_info3 Property_info1 Property_info3  \\\n",
       "0              N             ZA              N              D   \n",
       "1              N             XR              N              D   \n",
       "2              N             ZA              N              D   \n",
       "3              N             ZA              N              O   \n",
       "4              N             XD              N              R   \n",
       "\n",
       "  Geographic_info4 Geographic_info5  \n",
       "0                N               CA  \n",
       "1                N               TX  \n",
       "2                N               CA  \n",
       "3                N               TX  \n",
       "4                N               NJ  "
      ]
     },
     "execution_count": 10,
     "metadata": {},
     "output_type": "execute_result"
    }
   ],
   "source": [
    "##选取类别型变量\n",
    "A=df.select_dtypes(include='object')\n",
    "A.head()                    "
   ]
  },
  {
   "cell_type": "code",
   "execution_count": 11,
   "metadata": {},
   "outputs": [
    {
     "data": {
      "text/html": [
       "<div>\n",
       "<style scoped>\n",
       "    .dataframe tbody tr th:only-of-type {\n",
       "        vertical-align: middle;\n",
       "    }\n",
       "\n",
       "    .dataframe tbody tr th {\n",
       "        vertical-align: top;\n",
       "    }\n",
       "\n",
       "    .dataframe thead th {\n",
       "        text-align: right;\n",
       "    }\n",
       "</style>\n",
       "<table border=\"1\" class=\"dataframe\">\n",
       "  <thead>\n",
       "    <tr style=\"text-align: right;\">\n",
       "      <th></th>\n",
       "      <th>Quote_Id</th>\n",
       "      <th>Quote_Flag</th>\n",
       "      <th>Field_info2</th>\n",
       "      <th>Coverage_info1</th>\n",
       "      <th>Coverage_info2</th>\n",
       "      <th>Sales_info1</th>\n",
       "      <th>Sales_info2</th>\n",
       "      <th>Sales_info3</th>\n",
       "      <th>Sales_info5</th>\n",
       "      <th>Personal_info2</th>\n",
       "      <th>Personal_info4</th>\n",
       "      <th>Personal_info5</th>\n",
       "      <th>Property_info2</th>\n",
       "      <th>Property_info4</th>\n",
       "      <th>Property_info5</th>\n",
       "      <th>Geographic_info1</th>\n",
       "      <th>Geographic_info2</th>\n",
       "      <th>Geographic_info3</th>\n",
       "    </tr>\n",
       "  </thead>\n",
       "  <tbody>\n",
       "    <tr>\n",
       "      <th>0</th>\n",
       "      <td>2</td>\n",
       "      <td>0</td>\n",
       "      <td>0.9153</td>\n",
       "      <td>5</td>\n",
       "      <td>2</td>\n",
       "      <td>1</td>\n",
       "      <td>5</td>\n",
       "      <td>11</td>\n",
       "      <td>55101</td>\n",
       "      <td>-1</td>\n",
       "      <td>0</td>\n",
       "      <td>2.0</td>\n",
       "      <td>0</td>\n",
       "      <td>1</td>\n",
       "      <td>6</td>\n",
       "      <td>2</td>\n",
       "      <td>13</td>\n",
       "      <td>-1</td>\n",
       "    </tr>\n",
       "    <tr>\n",
       "      <th>1</th>\n",
       "      <td>3</td>\n",
       "      <td>0</td>\n",
       "      <td>0.9691</td>\n",
       "      <td>5</td>\n",
       "      <td>22</td>\n",
       "      <td>1</td>\n",
       "      <td>5</td>\n",
       "      <td>1</td>\n",
       "      <td>5476</td>\n",
       "      <td>-1</td>\n",
       "      <td>0</td>\n",
       "      <td>NaN</td>\n",
       "      <td>0</td>\n",
       "      <td>1</td>\n",
       "      <td>8</td>\n",
       "      <td>14</td>\n",
       "      <td>7</td>\n",
       "      <td>-1</td>\n",
       "    </tr>\n",
       "    <tr>\n",
       "      <th>2</th>\n",
       "      <td>6</td>\n",
       "      <td>0</td>\n",
       "      <td>0.9153</td>\n",
       "      <td>6</td>\n",
       "      <td>22</td>\n",
       "      <td>1</td>\n",
       "      <td>5</td>\n",
       "      <td>11</td>\n",
       "      <td>59655</td>\n",
       "      <td>18</td>\n",
       "      <td>0</td>\n",
       "      <td>2.0</td>\n",
       "      <td>0</td>\n",
       "      <td>1</td>\n",
       "      <td>11</td>\n",
       "      <td>2</td>\n",
       "      <td>12</td>\n",
       "      <td>-1</td>\n",
       "    </tr>\n",
       "    <tr>\n",
       "      <th>3</th>\n",
       "      <td>9</td>\n",
       "      <td>0</td>\n",
       "      <td>0.8793</td>\n",
       "      <td>1</td>\n",
       "      <td>22</td>\n",
       "      <td>1</td>\n",
       "      <td>5</td>\n",
       "      <td>11</td>\n",
       "      <td>6943</td>\n",
       "      <td>5</td>\n",
       "      <td>0</td>\n",
       "      <td>2.0</td>\n",
       "      <td>0</td>\n",
       "      <td>0</td>\n",
       "      <td>1</td>\n",
       "      <td>14</td>\n",
       "      <td>6</td>\n",
       "      <td>-1</td>\n",
       "    </tr>\n",
       "    <tr>\n",
       "      <th>4</th>\n",
       "      <td>10</td>\n",
       "      <td>1</td>\n",
       "      <td>1.0101</td>\n",
       "      <td>13</td>\n",
       "      <td>22</td>\n",
       "      <td>1</td>\n",
       "      <td>3</td>\n",
       "      <td>20</td>\n",
       "      <td>61148</td>\n",
       "      <td>6</td>\n",
       "      <td>0</td>\n",
       "      <td>NaN</td>\n",
       "      <td>0</td>\n",
       "      <td>1</td>\n",
       "      <td>25</td>\n",
       "      <td>4</td>\n",
       "      <td>22</td>\n",
       "      <td>-1</td>\n",
       "    </tr>\n",
       "  </tbody>\n",
       "</table>\n",
       "</div>"
      ],
      "text/plain": [
       "   Quote_Id  Quote_Flag  Field_info2  Coverage_info1  Coverage_info2  \\\n",
       "0         2           0       0.9153               5               2   \n",
       "1         3           0       0.9691               5              22   \n",
       "2         6           0       0.9153               6              22   \n",
       "3         9           0       0.8793               1              22   \n",
       "4        10           1       1.0101              13              22   \n",
       "\n",
       "   Sales_info1  Sales_info2  Sales_info3  Sales_info5  Personal_info2  \\\n",
       "0            1            5           11        55101              -1   \n",
       "1            1            5            1         5476              -1   \n",
       "2            1            5           11        59655              18   \n",
       "3            1            5           11         6943               5   \n",
       "4            1            3           20        61148               6   \n",
       "\n",
       "   Personal_info4  Personal_info5  Property_info2  Property_info4  \\\n",
       "0               0             2.0               0               1   \n",
       "1               0             NaN               0               1   \n",
       "2               0             2.0               0               1   \n",
       "3               0             2.0               0               0   \n",
       "4               0             NaN               0               1   \n",
       "\n",
       "   Property_info5  Geographic_info1  Geographic_info2  Geographic_info3  \n",
       "0               6                 2                13                -1  \n",
       "1               8                14                 7                -1  \n",
       "2              11                 2                12                -1  \n",
       "3               1                14                 6                -1  \n",
       "4              25                 4                22                -1  "
      ]
     },
     "execution_count": 11,
     "metadata": {},
     "output_type": "execute_result"
    }
   ],
   "source": [
    "##选取数值型变量\n",
    "B=df.select_dtypes(include=['int64','float'])\n",
    "B.head()"
   ]
  },
  {
   "cell_type": "code",
   "execution_count": 15,
   "metadata": {},
   "outputs": [
    {
     "data": {
      "text/plain": [
       "0         2\n",
       "1        22\n",
       "2        22\n",
       "3        22\n",
       "4        22\n",
       "         ..\n",
       "62575    25\n",
       "62576     2\n",
       "62577    22\n",
       "62578    25\n",
       "62579    22\n",
       "Name: Coverage_info2, Length: 62580, dtype: object"
      ]
     },
     "execution_count": 15,
     "metadata": {},
     "output_type": "execute_result"
    }
   ],
   "source": [
    "##更改变量类型（注意如下命令并不能改变原数据框内的值）\n",
    "df['Coverage_info2'].astype(\"object\")"
   ]
  },
  {
   "cell_type": "code",
   "execution_count": 16,
   "metadata": {},
   "outputs": [
    {
     "data": {
      "text/plain": [
       "dtype('int64')"
      ]
     },
     "execution_count": 16,
     "metadata": {},
     "output_type": "execute_result"
    }
   ],
   "source": [
    "df['Coverage_info2'].dtypes"
   ]
  },
  {
   "cell_type": "code",
   "execution_count": 17,
   "metadata": {},
   "outputs": [
    {
     "data": {
      "text/plain": [
       "dtype('O')"
      ]
     },
     "execution_count": 17,
     "metadata": {},
     "output_type": "execute_result"
    }
   ],
   "source": [
    "##用变量赋值的方式更改原数据框内的值\n",
    "df['Coverage_info2']=df['Coverage_info2'].astype(\"object\")\n",
    "df['Coverage_info2'].dtypes"
   ]
  },
  {
   "cell_type": "code",
   "execution_count": 18,
   "metadata": {},
   "outputs": [
    {
     "data": {
      "text/plain": [
       "dtype('int64')"
      ]
     },
     "execution_count": 18,
     "metadata": {},
     "output_type": "execute_result"
    }
   ],
   "source": [
    "##更改原类型\n",
    "df['Coverage_info2']=df['Coverage_info2'].astype(\"int64\")\n",
    "df['Coverage_info2'].dtypes"
   ]
  },
  {
   "cell_type": "code",
   "execution_count": 19,
   "metadata": {},
   "outputs": [
    {
     "data": {
      "text/html": [
       "<div>\n",
       "<style scoped>\n",
       "    .dataframe tbody tr th:only-of-type {\n",
       "        vertical-align: middle;\n",
       "    }\n",
       "\n",
       "    .dataframe tbody tr th {\n",
       "        vertical-align: top;\n",
       "    }\n",
       "\n",
       "    .dataframe thead th {\n",
       "        text-align: right;\n",
       "    }\n",
       "</style>\n",
       "<table border=\"1\" class=\"dataframe\">\n",
       "  <thead>\n",
       "    <tr style=\"text-align: right;\">\n",
       "      <th></th>\n",
       "      <th>count</th>\n",
       "      <th>unique</th>\n",
       "      <th>top</th>\n",
       "      <th>freq</th>\n",
       "    </tr>\n",
       "  </thead>\n",
       "  <tbody>\n",
       "    <tr>\n",
       "      <th>Quote_Date</th>\n",
       "      <td>62580</td>\n",
       "      <td>868</td>\n",
       "      <td>3/3/14</td>\n",
       "      <td>172</td>\n",
       "    </tr>\n",
       "    <tr>\n",
       "      <th>Field_info1</th>\n",
       "      <td>62580</td>\n",
       "      <td>8</td>\n",
       "      <td>B</td>\n",
       "      <td>22809</td>\n",
       "    </tr>\n",
       "    <tr>\n",
       "      <th>Field_info3</th>\n",
       "      <td>62580</td>\n",
       "      <td>8</td>\n",
       "      <td>935</td>\n",
       "      <td>12478</td>\n",
       "    </tr>\n",
       "    <tr>\n",
       "      <th>Field_info4</th>\n",
       "      <td>62580</td>\n",
       "      <td>2</td>\n",
       "      <td>N</td>\n",
       "      <td>58072</td>\n",
       "    </tr>\n",
       "    <tr>\n",
       "      <th>Coverage_info3</th>\n",
       "      <td>62580</td>\n",
       "      <td>12</td>\n",
       "      <td>E</td>\n",
       "      <td>20498</td>\n",
       "    </tr>\n",
       "    <tr>\n",
       "      <th>Sales_info4</th>\n",
       "      <td>62580</td>\n",
       "      <td>7</td>\n",
       "      <td>K</td>\n",
       "      <td>12037</td>\n",
       "    </tr>\n",
       "    <tr>\n",
       "      <th>Personal_info1</th>\n",
       "      <td>62557</td>\n",
       "      <td>2</td>\n",
       "      <td>N</td>\n",
       "      <td>62265</td>\n",
       "    </tr>\n",
       "    <tr>\n",
       "      <th>Personal_info3</th>\n",
       "      <td>62580</td>\n",
       "      <td>38</td>\n",
       "      <td>ZA</td>\n",
       "      <td>29837</td>\n",
       "    </tr>\n",
       "    <tr>\n",
       "      <th>Property_info1</th>\n",
       "      <td>62564</td>\n",
       "      <td>2</td>\n",
       "      <td>N</td>\n",
       "      <td>54423</td>\n",
       "    </tr>\n",
       "    <tr>\n",
       "      <th>Property_info3</th>\n",
       "      <td>62580</td>\n",
       "      <td>17</td>\n",
       "      <td>O</td>\n",
       "      <td>17883</td>\n",
       "    </tr>\n",
       "    <tr>\n",
       "      <th>Geographic_info4</th>\n",
       "      <td>62579</td>\n",
       "      <td>2</td>\n",
       "      <td>N</td>\n",
       "      <td>61143</td>\n",
       "    </tr>\n",
       "    <tr>\n",
       "      <th>Geographic_info5</th>\n",
       "      <td>62580</td>\n",
       "      <td>4</td>\n",
       "      <td>CA</td>\n",
       "      <td>22817</td>\n",
       "    </tr>\n",
       "  </tbody>\n",
       "</table>\n",
       "</div>"
      ],
      "text/plain": [
       "                  count unique     top   freq\n",
       "Quote_Date        62580    868  3/3/14    172\n",
       "Field_info1       62580      8       B  22809\n",
       "Field_info3       62580      8     935  12478\n",
       "Field_info4       62580      2       N  58072\n",
       "Coverage_info3    62580     12       E  20498\n",
       "Sales_info4       62580      7       K  12037\n",
       "Personal_info1    62557      2       N  62265\n",
       "Personal_info3    62580     38      ZA  29837\n",
       "Property_info1    62564      2       N  54423\n",
       "Property_info3    62580     17       O  17883\n",
       "Geographic_info4  62579      2       N  61143\n",
       "Geographic_info5  62580      4      CA  22817"
      ]
     },
     "execution_count": 19,
     "metadata": {},
     "output_type": "execute_result"
    }
   ],
   "source": [
    "##类别型变量统计信息\n",
    "A_describe=A.describe()\n",
    "A_describe.T"
   ]
  },
  {
   "cell_type": "code",
   "execution_count": 18,
   "metadata": {},
   "outputs": [
    {
     "data": {
      "text/html": [
       "<div>\n",
       "<style scoped>\n",
       "    .dataframe tbody tr th:only-of-type {\n",
       "        vertical-align: middle;\n",
       "    }\n",
       "\n",
       "    .dataframe tbody tr th {\n",
       "        vertical-align: top;\n",
       "    }\n",
       "\n",
       "    .dataframe thead th {\n",
       "        text-align: right;\n",
       "    }\n",
       "</style>\n",
       "<table border=\"1\" class=\"dataframe\">\n",
       "  <thead>\n",
       "    <tr style=\"text-align: right;\">\n",
       "      <th></th>\n",
       "      <th>count</th>\n",
       "      <th>mean</th>\n",
       "      <th>std</th>\n",
       "      <th>min</th>\n",
       "      <th>25%</th>\n",
       "      <th>50%</th>\n",
       "      <th>75%</th>\n",
       "      <th>max</th>\n",
       "    </tr>\n",
       "  </thead>\n",
       "  <tbody>\n",
       "    <tr>\n",
       "      <th>Quote_Id</th>\n",
       "      <td>62580.0</td>\n",
       "      <td>52125.978923</td>\n",
       "      <td>30130.035087</td>\n",
       "      <td>2.0000</td>\n",
       "      <td>25980.7500</td>\n",
       "      <td>51989.0000</td>\n",
       "      <td>78291.5000</td>\n",
       "      <td>104301.0000</td>\n",
       "    </tr>\n",
       "    <tr>\n",
       "      <th>Quote_Flag</th>\n",
       "      <td>62580.0</td>\n",
       "      <td>0.191035</td>\n",
       "      <td>0.393120</td>\n",
       "      <td>0.0000</td>\n",
       "      <td>0.0000</td>\n",
       "      <td>0.0000</td>\n",
       "      <td>0.0000</td>\n",
       "      <td>1.0000</td>\n",
       "    </tr>\n",
       "    <tr>\n",
       "      <th>Field_info2</th>\n",
       "      <td>62580.0</td>\n",
       "      <td>0.938307</td>\n",
       "      <td>0.037030</td>\n",
       "      <td>0.8746</td>\n",
       "      <td>0.9153</td>\n",
       "      <td>0.9403</td>\n",
       "      <td>0.9685</td>\n",
       "      <td>1.0101</td>\n",
       "    </tr>\n",
       "    <tr>\n",
       "      <th>Coverage_info1</th>\n",
       "      <td>62580.0</td>\n",
       "      <td>8.999057</td>\n",
       "      <td>5.575434</td>\n",
       "      <td>-1.0000</td>\n",
       "      <td>5.0000</td>\n",
       "      <td>8.0000</td>\n",
       "      <td>12.0000</td>\n",
       "      <td>25.0000</td>\n",
       "    </tr>\n",
       "    <tr>\n",
       "      <th>Coverage_info2</th>\n",
       "      <td>62580.0</td>\n",
       "      <td>21.197779</td>\n",
       "      <td>4.926863</td>\n",
       "      <td>1.0000</td>\n",
       "      <td>22.0000</td>\n",
       "      <td>22.0000</td>\n",
       "      <td>22.0000</td>\n",
       "      <td>25.0000</td>\n",
       "    </tr>\n",
       "    <tr>\n",
       "      <th>Sales_info1</th>\n",
       "      <td>62580.0</td>\n",
       "      <td>0.745973</td>\n",
       "      <td>0.435316</td>\n",
       "      <td>0.0000</td>\n",
       "      <td>0.0000</td>\n",
       "      <td>1.0000</td>\n",
       "      <td>1.0000</td>\n",
       "      <td>1.0000</td>\n",
       "    </tr>\n",
       "    <tr>\n",
       "      <th>Sales_info2</th>\n",
       "      <td>62580.0</td>\n",
       "      <td>4.223474</td>\n",
       "      <td>0.977803</td>\n",
       "      <td>1.0000</td>\n",
       "      <td>3.0000</td>\n",
       "      <td>5.0000</td>\n",
       "      <td>5.0000</td>\n",
       "      <td>5.0000</td>\n",
       "    </tr>\n",
       "    <tr>\n",
       "      <th>Sales_info3</th>\n",
       "      <td>62580.0</td>\n",
       "      <td>13.992410</td>\n",
       "      <td>6.296919</td>\n",
       "      <td>1.0000</td>\n",
       "      <td>11.0000</td>\n",
       "      <td>11.0000</td>\n",
       "      <td>20.0000</td>\n",
       "      <td>24.0000</td>\n",
       "    </tr>\n",
       "    <tr>\n",
       "      <th>Sales_info5</th>\n",
       "      <td>62580.0</td>\n",
       "      <td>33738.501135</td>\n",
       "      <td>19521.641287</td>\n",
       "      <td>4.0000</td>\n",
       "      <td>16776.7500</td>\n",
       "      <td>33912.0000</td>\n",
       "      <td>50734.2500</td>\n",
       "      <td>67162.0000</td>\n",
       "    </tr>\n",
       "    <tr>\n",
       "      <th>Personal_info2</th>\n",
       "      <td>62580.0</td>\n",
       "      <td>6.905225</td>\n",
       "      <td>6.727773</td>\n",
       "      <td>-1.0000</td>\n",
       "      <td>4.0000</td>\n",
       "      <td>6.0000</td>\n",
       "      <td>9.0000</td>\n",
       "      <td>25.0000</td>\n",
       "    </tr>\n",
       "    <tr>\n",
       "      <th>Personal_info4</th>\n",
       "      <td>62580.0</td>\n",
       "      <td>0.001182</td>\n",
       "      <td>0.054211</td>\n",
       "      <td>0.0000</td>\n",
       "      <td>0.0000</td>\n",
       "      <td>0.0000</td>\n",
       "      <td>0.0000</td>\n",
       "      <td>7.0000</td>\n",
       "    </tr>\n",
       "    <tr>\n",
       "      <th>Personal_info5</th>\n",
       "      <td>32792.0</td>\n",
       "      <td>1.990577</td>\n",
       "      <td>0.126423</td>\n",
       "      <td>1.0000</td>\n",
       "      <td>2.0000</td>\n",
       "      <td>2.0000</td>\n",
       "      <td>2.0000</td>\n",
       "      <td>5.0000</td>\n",
       "    </tr>\n",
       "    <tr>\n",
       "      <th>Property_info2</th>\n",
       "      <td>62580.0</td>\n",
       "      <td>0.000000</td>\n",
       "      <td>0.000000</td>\n",
       "      <td>0.0000</td>\n",
       "      <td>0.0000</td>\n",
       "      <td>0.0000</td>\n",
       "      <td>0.0000</td>\n",
       "      <td>0.0000</td>\n",
       "    </tr>\n",
       "    <tr>\n",
       "      <th>Property_info4</th>\n",
       "      <td>62580.0</td>\n",
       "      <td>0.664318</td>\n",
       "      <td>0.472232</td>\n",
       "      <td>0.0000</td>\n",
       "      <td>0.0000</td>\n",
       "      <td>1.0000</td>\n",
       "      <td>1.0000</td>\n",
       "      <td>1.0000</td>\n",
       "    </tr>\n",
       "    <tr>\n",
       "      <th>Property_info5</th>\n",
       "      <td>62580.0</td>\n",
       "      <td>12.985874</td>\n",
       "      <td>7.210242</td>\n",
       "      <td>-1.0000</td>\n",
       "      <td>7.0000</td>\n",
       "      <td>13.0000</td>\n",
       "      <td>19.0000</td>\n",
       "      <td>25.0000</td>\n",
       "    </tr>\n",
       "    <tr>\n",
       "      <th>Geographic_info1</th>\n",
       "      <td>62580.0</td>\n",
       "      <td>7.381192</td>\n",
       "      <td>7.076647</td>\n",
       "      <td>-1.0000</td>\n",
       "      <td>2.0000</td>\n",
       "      <td>4.0000</td>\n",
       "      <td>11.0000</td>\n",
       "      <td>25.0000</td>\n",
       "    </tr>\n",
       "    <tr>\n",
       "      <th>Geographic_info2</th>\n",
       "      <td>62580.0</td>\n",
       "      <td>13.267370</td>\n",
       "      <td>6.864138</td>\n",
       "      <td>-1.0000</td>\n",
       "      <td>7.0000</td>\n",
       "      <td>13.0000</td>\n",
       "      <td>19.0000</td>\n",
       "      <td>25.0000</td>\n",
       "    </tr>\n",
       "    <tr>\n",
       "      <th>Geographic_info3</th>\n",
       "      <td>62580.0</td>\n",
       "      <td>-0.370150</td>\n",
       "      <td>3.997454</td>\n",
       "      <td>-1.0000</td>\n",
       "      <td>-1.0000</td>\n",
       "      <td>-1.0000</td>\n",
       "      <td>-1.0000</td>\n",
       "      <td>25.0000</td>\n",
       "    </tr>\n",
       "  </tbody>\n",
       "</table>\n",
       "</div>"
      ],
      "text/plain": [
       "                    count          mean           std     min         25%  \\\n",
       "Quote_Id          62580.0  52125.978923  30130.035087  2.0000  25980.7500   \n",
       "Quote_Flag        62580.0      0.191035      0.393120  0.0000      0.0000   \n",
       "Field_info2       62580.0      0.938307      0.037030  0.8746      0.9153   \n",
       "Coverage_info1    62580.0      8.999057      5.575434 -1.0000      5.0000   \n",
       "Coverage_info2    62580.0     21.197779      4.926863  1.0000     22.0000   \n",
       "Sales_info1       62580.0      0.745973      0.435316  0.0000      0.0000   \n",
       "Sales_info2       62580.0      4.223474      0.977803  1.0000      3.0000   \n",
       "Sales_info3       62580.0     13.992410      6.296919  1.0000     11.0000   \n",
       "Sales_info5       62580.0  33738.501135  19521.641287  4.0000  16776.7500   \n",
       "Personal_info2    62580.0      6.905225      6.727773 -1.0000      4.0000   \n",
       "Personal_info4    62580.0      0.001182      0.054211  0.0000      0.0000   \n",
       "Personal_info5    32792.0      1.990577      0.126423  1.0000      2.0000   \n",
       "Property_info2    62580.0      0.000000      0.000000  0.0000      0.0000   \n",
       "Property_info4    62580.0      0.664318      0.472232  0.0000      0.0000   \n",
       "Property_info5    62580.0     12.985874      7.210242 -1.0000      7.0000   \n",
       "Geographic_info1  62580.0      7.381192      7.076647 -1.0000      2.0000   \n",
       "Geographic_info2  62580.0     13.267370      6.864138 -1.0000      7.0000   \n",
       "Geographic_info3  62580.0     -0.370150      3.997454 -1.0000     -1.0000   \n",
       "\n",
       "                         50%         75%          max  \n",
       "Quote_Id          51989.0000  78291.5000  104301.0000  \n",
       "Quote_Flag            0.0000      0.0000       1.0000  \n",
       "Field_info2           0.9403      0.9685       1.0101  \n",
       "Coverage_info1        8.0000     12.0000      25.0000  \n",
       "Coverage_info2       22.0000     22.0000      25.0000  \n",
       "Sales_info1           1.0000      1.0000       1.0000  \n",
       "Sales_info2           5.0000      5.0000       5.0000  \n",
       "Sales_info3          11.0000     20.0000      24.0000  \n",
       "Sales_info5       33912.0000  50734.2500   67162.0000  \n",
       "Personal_info2        6.0000      9.0000      25.0000  \n",
       "Personal_info4        0.0000      0.0000       7.0000  \n",
       "Personal_info5        2.0000      2.0000       5.0000  \n",
       "Property_info2        0.0000      0.0000       0.0000  \n",
       "Property_info4        1.0000      1.0000       1.0000  \n",
       "Property_info5       13.0000     19.0000      25.0000  \n",
       "Geographic_info1      4.0000     11.0000      25.0000  \n",
       "Geographic_info2     13.0000     19.0000      25.0000  \n",
       "Geographic_info3     -1.0000     -1.0000      25.0000  "
      ]
     },
     "execution_count": 18,
     "metadata": {},
     "output_type": "execute_result"
    }
   ],
   "source": [
    "##数值型变量统计信息\n",
    "B_describe=B.describe()\n",
    "B_describe.T"
   ]
  },
  {
   "cell_type": "code",
   "execution_count": 19,
   "metadata": {},
   "outputs": [
    {
     "name": "stderr",
     "output_type": "stream",
     "text": [
      "D:\\Anaconda3\\lib\\site-packages\\seaborn\\distributions.py:2619: FutureWarning: `distplot` is a deprecated function and will be removed in a future version. Please adapt your code to use either `displot` (a figure-level function with similar flexibility) or `histplot` (an axes-level function for histograms).\n",
      "  warnings.warn(msg, FutureWarning)\n"
     ]
    },
    {
     "data": {
      "text/plain": [
       "<AxesSubplot:xlabel='Sales_info5', ylabel='Density'>"
      ]
     },
     "execution_count": 19,
     "metadata": {},
     "output_type": "execute_result"
    },
    {
     "data": {
      "image/png": "[encoded data removed]",
      "text/plain": [
       "<Figure size 432x288 with 1 Axes>"
      ]
     },
     "metadata": {},
     "output_type": "display_data"
    }
   ],
   "source": [
    "##数值型变量：概率密度图+直方图\n",
    "sns.distplot(B['Sales_info5']) "
   ]
  },
  {
   "cell_type": "code",
   "execution_count": 20,
   "metadata": {},
   "outputs": [
    {
     "data": {
      "text/plain": [
       "<AxesSubplot:title={'center':'Sales_info5'}>"
      ]
     },
     "execution_count": 20,
     "metadata": {},
     "output_type": "execute_result"
    },
    {
     "data": {
      "image/png": "[encoded data removed]",
      "text/plain": [
       "<Figure size 432x288 with 1 Axes>"
      ]
     },
     "metadata": {},
     "output_type": "display_data"
    }
   ],
   "source": [
    "##数值型变量：箱图\n",
    "B['Sales_info5'].plot(kind='box',title='Sales_info5')"
   ]
  },
  {
   "cell_type": "code",
   "execution_count": 21,
   "metadata": {},
   "outputs": [
    {
     "data": {
      "text/plain": [
       "<AxesSubplot:>"
      ]
     },
     "execution_count": 21,
     "metadata": {},
     "output_type": "execute_result"
    },
    {
     "data": {
      "image/png": "[encoded data removed]",
      "text/plain": [
       "<Figure size 432x288 with 1 Axes>"
      ]
     },
     "metadata": {},
     "output_type": "display_data"
    }
   ],
   "source": [
    "##类别型变量：条形图\n",
    "A['Coverage_info3'].value_counts().plot(kind='bar')"
   ]
  },
  {
   "cell_type": "code",
   "execution_count": 22,
   "metadata": {},
   "outputs": [
    {
     "data": {
      "text/plain": [
       "<AxesSubplot:title={'center':'Field_info2'}>"
      ]
     },
     "execution_count": 22,
     "metadata": {},
     "output_type": "execute_result"
    },
    {
     "data": {
      "image/png": "[encoded data removed]",
      "text/plain": [
       "<Figure size 720x432 with 2 Axes>"
      ]
     },
     "metadata": {},
     "output_type": "display_data"
    }
   ],
   "source": [
    "##子图画法\n",
    "plt.figure(figsize=(10,6))\n",
    "plt.subplot(121)\n",
    "B['Sales_info5'].plot(kind='box',title='Sales_info5')\n",
    "plt.subplot(122)\n",
    "B['Field_info2'].plot(kind='box',title='Field_info2')"
   ]
  },
  {
   "cell_type": "code",
   "execution_count": 23,
   "metadata": {},
   "outputs": [
    {
     "data": {
      "text/plain": [
       "<AxesSubplot:title={'center':'Field_info3'}>"
      ]
     },
     "execution_count": 23,
     "metadata": {},
     "output_type": "execute_result"
    },
    {
     "data": {
      "image/png": "[encoded data removed]",
      "text/plain": [
       "<Figure size 864x576 with 3 Axes>"
      ]
     },
     "metadata": {},
     "output_type": "display_data"
    }
   ],
   "source": [
    "plt.figure(figsize=(12,8))\n",
    "plt.subplot(211)\n",
    "A['Field_info1'].value_counts().plot(kind='bar',title='Field_info1')\n",
    "plt.subplot(223)\n",
    "A['Field_info4'].value_counts().plot(kind='bar',title='Field_info4')\n",
    "plt.subplot(224)\n",
    "A['Field_info3'].value_counts().plot(kind='bar',title='Field_info3')"
   ]
  },
  {
   "cell_type": "code",
   "execution_count": 24,
   "metadata": {},
   "outputs": [
    {
     "data": {
      "text/plain": [
       "<seaborn.axisgrid.JointGrid at 0x1c367a7e910>"
      ]
     },
     "execution_count": 24,
     "metadata": {},
     "output_type": "execute_result"
    },
    {
     "data": {
      "image/png": "[encoded data removed]",
      "text/plain": [
       "<Figure size 432x432 with 3 Axes>"
      ]
     },
     "metadata": {},
     "output_type": "display_data"
    }
   ],
   "source": [
    "## 两个变量关系图：组合散点图+回归图\n",
    "sns.jointplot(x='Sales_info5', y='Field_info2', data=B,kind='reg')"
   ]
  },
  {
   "cell_type": "code",
   "execution_count": 25,
   "metadata": {},
   "outputs": [
    {
     "data": {
      "text/plain": [
       "<seaborn.axisgrid.PairGrid at 0x1c3666e87c0>"
      ]
     },
     "execution_count": 25,
     "metadata": {},
     "output_type": "execute_result"
    },
    {
     "data": {
      "image/png": "[encoded data removed]",
      "text/plain": [
       "<Figure size 540x540 with 12 Axes>"
      ]
     },
     "metadata": {},
     "output_type": "display_data"
    }
   ],
   "source": [
    "##两个变量关系图：散点图矩阵\n",
    "sns.pairplot(B.iloc[:,1:4])"
   ]
  },
  {
   "cell_type": "code",
   "execution_count": 26,
   "metadata": {},
   "outputs": [
    {
     "data": {
      "text/plain": [
       "Quote_Date           0\n",
       "Field_info1          0\n",
       "Field_info3          0\n",
       "Field_info4          0\n",
       "Coverage_info3       0\n",
       "Sales_info4          0\n",
       "Personal_info1      23\n",
       "Personal_info3       0\n",
       "Property_info1      16\n",
       "Property_info3       0\n",
       "Geographic_info4     1\n",
       "Geographic_info5     0\n",
       "dtype: int64"
      ]
     },
     "execution_count": 26,
     "metadata": {},
     "output_type": "execute_result"
    }
   ],
   "source": [
    "##查看A当中的缺失值情况\n",
    "A1=A.isnull().sum()\n",
    "A1"
   ]
  },
  {
   "cell_type": "code",
   "execution_count": 27,
   "metadata": {},
   "outputs": [
    {
     "data": {
      "text/plain": [
       "Personal_info1      23\n",
       "Property_info1      16\n",
       "Geographic_info4     1\n",
       "dtype: int64"
      ]
     },
     "execution_count": 27,
     "metadata": {},
     "output_type": "execute_result"
    }
   ],
   "source": [
    "##找到有缺失值的属性\n",
    "A1[A1>0]"
   ]
  },
  {
   "cell_type": "code",
   "execution_count": 28,
   "metadata": {},
   "outputs": [
    {
     "data": {
      "text/plain": [
       "Quote_Date          0\n",
       "Field_info1         0\n",
       "Field_info3         0\n",
       "Field_info4         0\n",
       "Coverage_info3      0\n",
       "Sales_info4         0\n",
       "Personal_info1      0\n",
       "Personal_info3      0\n",
       "Property_info1      0\n",
       "Property_info3      0\n",
       "Geographic_info4    0\n",
       "Geographic_info5    0\n",
       "dtype: int64"
      ]
     },
     "execution_count": 28,
     "metadata": {},
     "output_type": "execute_result"
    }
   ],
   "source": [
    "##对A缺失值填成none\n",
    "A=A.fillna('None')\n",
    "A.isnull().sum()"
   ]
  },
  {
   "cell_type": "code",
   "execution_count": 29,
   "metadata": {},
   "outputs": [
    {
     "data": {
      "text/plain": [
       "Quote_Id                0\n",
       "Quote_Flag              0\n",
       "Field_info2             0\n",
       "Coverage_info1         86\n",
       "Coverage_info2          0\n",
       "Sales_info1             0\n",
       "Sales_info2             0\n",
       "Sales_info3             0\n",
       "Sales_info5             0\n",
       "Personal_info2      13184\n",
       "Personal_info4          0\n",
       "Personal_info5          0\n",
       "Property_info2          0\n",
       "Property_info4          0\n",
       "Property_info5          5\n",
       "Geographic_info1        1\n",
       "Geographic_info2        1\n",
       "Geographic_info3    61064\n",
       "dtype: int64"
      ]
     },
     "execution_count": 29,
     "metadata": {},
     "output_type": "execute_result"
    }
   ],
   "source": [
    "##对B中是-1的情况\n",
    "(B==-1).sum()"
   ]
  },
  {
   "cell_type": "code",
   "execution_count": 30,
   "metadata": {},
   "outputs": [
    {
     "name": "stderr",
     "output_type": "stream",
     "text": [
      "C:\\Users\\17630\\AppData\\Roaming\\Python\\Python39\\site-packages\\pandas\\core\\generic.py:8870: SettingWithCopyWarning: \n",
      "A value is trying to be set on a copy of a slice from a DataFrame\n",
      "\n",
      "See the caveats in the documentation: https://pandas.pydata.org/pandas-docs/stable/user_guide/indexing.html#returning-a-view-versus-a-copy\n",
      "  return self._update_inplace(result)\n"
     ]
    }
   ],
   "source": [
    "##对B中Coverage_info1是-1的进行填充\n",
    "B['Coverage_info1'].mask(B['Coverage_info1'] == -1,0,inplace=True)"
   ]
  },
  {
   "cell_type": "code",
   "execution_count": 31,
   "metadata": {},
   "outputs": [
    {
     "data": {
      "text/plain": [
       "0"
      ]
     },
     "execution_count": 31,
     "metadata": {},
     "output_type": "execute_result"
    }
   ],
   "source": [
    "##查看结果\n",
    "(B['Coverage_info1']==-1).sum()"
   ]
  },
  {
   "cell_type": "code",
   "execution_count": null,
   "metadata": {},
   "outputs": [],
   "source": []
  }
 ],
 "metadata": {
  "kernelspec": {
   "display_name": "Python 3 (ipykernel)",
   "language": "python",
   "name": "python3"
  },
  "language_info": {
   "codemirror_mode": {
    "name": "ipython",
    "version": 3
   },
   "file_extension": ".py",
   "mimetype": "text/x-python",
   "name": "python",
   "nbconvert_exporter": "python",
   "pygments_lexer": "ipython3",
   "version": "3.9.12"
  },
  "toc": {
   "base_numbering": 1,
   "nav_menu": {},
   "number_sections": true,
   "sideBar": true,
   "skip_h1_title": false,
   "title_cell": "Table of Contents",
   "title_sidebar": "Contents",
   "toc_cell": false,
   "toc_position": {},
   "toc_section_display": true,
   "toc_window_display": false
  }
 },
 "nbformat": 4,
 "nbformat_minor": 2
}
